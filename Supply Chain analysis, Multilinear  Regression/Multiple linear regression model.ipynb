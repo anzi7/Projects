{
 "cells": [
  {
   "cell_type": "markdown",
   "metadata": {},
   "source": [
    "### Multiple Linear Regression Model"
   ]
  },
  {
   "cell_type": "markdown",
   "metadata": {},
   "source": [
    "Dependent variable changes with the change in the values of Independent variables.\n",
    "\n",
    "Predictions of data from multiple variables."
   ]
  },
  {
   "cell_type": "code",
   "execution_count": 3,
   "metadata": {},
   "outputs": [
    {
     "data": {
      "text/html": [
       "<div>\n",
       "<style scoped>\n",
       "    .dataframe tbody tr th:only-of-type {\n",
       "        vertical-align: middle;\n",
       "    }\n",
       "\n",
       "    .dataframe tbody tr th {\n",
       "        vertical-align: top;\n",
       "    }\n",
       "\n",
       "    .dataframe thead th {\n",
       "        text-align: right;\n",
       "    }\n",
       "</style>\n",
       "<table border=\"1\" class=\"dataframe\">\n",
       "  <thead>\n",
       "    <tr style=\"text-align: right;\">\n",
       "      <th></th>\n",
       "      <th>Product type</th>\n",
       "      <th>SKU</th>\n",
       "      <th>Price</th>\n",
       "      <th>Availability</th>\n",
       "      <th>Number of products sold</th>\n",
       "      <th>Revenue generated</th>\n",
       "      <th>Customer demographics</th>\n",
       "      <th>Stock levels</th>\n",
       "      <th>Lead times</th>\n",
       "      <th>Order quantities</th>\n",
       "      <th>...</th>\n",
       "      <th>Location</th>\n",
       "      <th>Lead time</th>\n",
       "      <th>Production volumes</th>\n",
       "      <th>Manufacturing lead time</th>\n",
       "      <th>Manufacturing costs</th>\n",
       "      <th>Inspection results</th>\n",
       "      <th>Defect rates</th>\n",
       "      <th>Transportation modes</th>\n",
       "      <th>Routes</th>\n",
       "      <th>Costs</th>\n",
       "    </tr>\n",
       "  </thead>\n",
       "  <tbody>\n",
       "    <tr>\n",
       "      <th>0</th>\n",
       "      <td>haircare</td>\n",
       "      <td>SKU0</td>\n",
       "      <td>69.808006</td>\n",
       "      <td>55</td>\n",
       "      <td>802</td>\n",
       "      <td>8661.996792</td>\n",
       "      <td>Non-binary</td>\n",
       "      <td>58</td>\n",
       "      <td>7</td>\n",
       "      <td>96</td>\n",
       "      <td>...</td>\n",
       "      <td>Mumbai</td>\n",
       "      <td>29</td>\n",
       "      <td>215</td>\n",
       "      <td>29</td>\n",
       "      <td>46.279879</td>\n",
       "      <td>Pending</td>\n",
       "      <td>0.226410</td>\n",
       "      <td>Road</td>\n",
       "      <td>Route B</td>\n",
       "      <td>187.752075</td>\n",
       "    </tr>\n",
       "    <tr>\n",
       "      <th>1</th>\n",
       "      <td>skincare</td>\n",
       "      <td>SKU1</td>\n",
       "      <td>14.843523</td>\n",
       "      <td>95</td>\n",
       "      <td>736</td>\n",
       "      <td>7460.900065</td>\n",
       "      <td>Female</td>\n",
       "      <td>53</td>\n",
       "      <td>30</td>\n",
       "      <td>37</td>\n",
       "      <td>...</td>\n",
       "      <td>Mumbai</td>\n",
       "      <td>23</td>\n",
       "      <td>517</td>\n",
       "      <td>30</td>\n",
       "      <td>33.616769</td>\n",
       "      <td>Pending</td>\n",
       "      <td>4.854068</td>\n",
       "      <td>Road</td>\n",
       "      <td>Route B</td>\n",
       "      <td>503.065579</td>\n",
       "    </tr>\n",
       "    <tr>\n",
       "      <th>2</th>\n",
       "      <td>haircare</td>\n",
       "      <td>SKU2</td>\n",
       "      <td>11.319683</td>\n",
       "      <td>34</td>\n",
       "      <td>8</td>\n",
       "      <td>9577.749626</td>\n",
       "      <td>Unknown</td>\n",
       "      <td>1</td>\n",
       "      <td>10</td>\n",
       "      <td>88</td>\n",
       "      <td>...</td>\n",
       "      <td>Mumbai</td>\n",
       "      <td>12</td>\n",
       "      <td>971</td>\n",
       "      <td>27</td>\n",
       "      <td>30.688019</td>\n",
       "      <td>Pending</td>\n",
       "      <td>4.580593</td>\n",
       "      <td>Air</td>\n",
       "      <td>Route C</td>\n",
       "      <td>141.920282</td>\n",
       "    </tr>\n",
       "    <tr>\n",
       "      <th>3</th>\n",
       "      <td>skincare</td>\n",
       "      <td>SKU3</td>\n",
       "      <td>61.163343</td>\n",
       "      <td>68</td>\n",
       "      <td>83</td>\n",
       "      <td>7766.836426</td>\n",
       "      <td>Non-binary</td>\n",
       "      <td>23</td>\n",
       "      <td>13</td>\n",
       "      <td>59</td>\n",
       "      <td>...</td>\n",
       "      <td>Kolkata</td>\n",
       "      <td>24</td>\n",
       "      <td>937</td>\n",
       "      <td>18</td>\n",
       "      <td>35.624741</td>\n",
       "      <td>Fail</td>\n",
       "      <td>4.746649</td>\n",
       "      <td>Rail</td>\n",
       "      <td>Route A</td>\n",
       "      <td>254.776159</td>\n",
       "    </tr>\n",
       "    <tr>\n",
       "      <th>4</th>\n",
       "      <td>skincare</td>\n",
       "      <td>SKU4</td>\n",
       "      <td>4.805496</td>\n",
       "      <td>26</td>\n",
       "      <td>871</td>\n",
       "      <td>2686.505152</td>\n",
       "      <td>Non-binary</td>\n",
       "      <td>5</td>\n",
       "      <td>3</td>\n",
       "      <td>56</td>\n",
       "      <td>...</td>\n",
       "      <td>Delhi</td>\n",
       "      <td>5</td>\n",
       "      <td>414</td>\n",
       "      <td>3</td>\n",
       "      <td>92.065161</td>\n",
       "      <td>Fail</td>\n",
       "      <td>3.145580</td>\n",
       "      <td>Air</td>\n",
       "      <td>Route A</td>\n",
       "      <td>923.440632</td>\n",
       "    </tr>\n",
       "  </tbody>\n",
       "</table>\n",
       "<p>5 rows × 24 columns</p>\n",
       "</div>"
      ],
      "text/plain": [
       "  Product type   SKU      Price  Availability  Number of products sold  \\\n",
       "0     haircare  SKU0  69.808006            55                      802   \n",
       "1     skincare  SKU1  14.843523            95                      736   \n",
       "2     haircare  SKU2  11.319683            34                        8   \n",
       "3     skincare  SKU3  61.163343            68                       83   \n",
       "4     skincare  SKU4   4.805496            26                      871   \n",
       "\n",
       "   Revenue generated Customer demographics  Stock levels  Lead times  \\\n",
       "0        8661.996792            Non-binary            58           7   \n",
       "1        7460.900065                Female            53          30   \n",
       "2        9577.749626               Unknown             1          10   \n",
       "3        7766.836426            Non-binary            23          13   \n",
       "4        2686.505152            Non-binary             5           3   \n",
       "\n",
       "   Order quantities  ...  Location Lead time  Production volumes  \\\n",
       "0                96  ...    Mumbai        29                 215   \n",
       "1                37  ...    Mumbai        23                 517   \n",
       "2                88  ...    Mumbai        12                 971   \n",
       "3                59  ...   Kolkata        24                 937   \n",
       "4                56  ...     Delhi         5                 414   \n",
       "\n",
       "  Manufacturing lead time Manufacturing costs  Inspection results  \\\n",
       "0                      29           46.279879             Pending   \n",
       "1                      30           33.616769             Pending   \n",
       "2                      27           30.688019             Pending   \n",
       "3                      18           35.624741                Fail   \n",
       "4                       3           92.065161                Fail   \n",
       "\n",
       "   Defect rates  Transportation modes   Routes       Costs  \n",
       "0      0.226410                  Road  Route B  187.752075  \n",
       "1      4.854068                  Road  Route B  503.065579  \n",
       "2      4.580593                   Air  Route C  141.920282  \n",
       "3      4.746649                  Rail  Route A  254.776159  \n",
       "4      3.145580                   Air  Route A  923.440632  \n",
       "\n",
       "[5 rows x 24 columns]"
      ]
     },
     "execution_count": 3,
     "metadata": {},
     "output_type": "execute_result"
    }
   ],
   "source": [
    "# Import libraries\n",
    "import pandas as pd\n",
    "\n",
    "# import dataset\n",
    "df = pd.read_csv(r\"C:\\Users\\english\\Desktop\\data\\supply_chain_data.csv\")\n",
    "df.head()"
   ]
  },
  {
   "cell_type": "markdown",
   "metadata": {},
   "source": []
  },
  {
   "cell_type": "code",
   "execution_count": 5,
   "metadata": {},
   "outputs": [
    {
     "name": "stdout",
     "output_type": "stream",
     "text": [
      "Collecting scikit-learn\n",
      "  Downloading scikit_learn-1.3.2-cp311-cp311-win_amd64.whl (9.2 MB)\n",
      "                                              0.0/9.2 MB ? eta -:--:--\n",
      "                                              0.1/9.2 MB 3.2 MB/s eta 0:00:03\n",
      "     -                                        0.3/9.2 MB 3.9 MB/s eta 0:00:03\n",
      "     --                                       0.7/9.2 MB 5.4 MB/s eta 0:00:02\n",
      "     ----                                     1.1/9.2 MB 6.7 MB/s eta 0:00:02\n",
      "     ------                                   1.6/9.2 MB 7.2 MB/s eta 0:00:02\n",
      "     --------                                 2.1/9.2 MB 8.7 MB/s eta 0:00:01\n",
      "     ------------                             2.9/9.2 MB 9.3 MB/s eta 0:00:01\n",
      "     ---------------                          3.5/9.2 MB 9.6 MB/s eta 0:00:01\n",
      "     -----------------                        4.0/9.2 MB 9.8 MB/s eta 0:00:01\n",
      "     -----------------                        4.1/9.2 MB 9.8 MB/s eta 0:00:01\n",
      "     ----------------------                   5.1/9.2 MB 10.2 MB/s eta 0:00:01\n",
      "     ------------------------                 5.7/9.2 MB 10.4 MB/s eta 0:00:01\n",
      "     ---------------------------              6.2/9.2 MB 10.5 MB/s eta 0:00:01\n",
      "     -----------------------------            6.8/9.2 MB 10.6 MB/s eta 0:00:01\n",
      "     -------------------------------          7.4/9.2 MB 10.7 MB/s eta 0:00:01\n",
      "     ----------------------------------       7.9/9.2 MB 10.8 MB/s eta 0:00:01\n",
      "     ------------------------------------     8.5/9.2 MB 10.8 MB/s eta 0:00:01\n",
      "     ---------------------------------------  9.0/9.2 MB 10.9 MB/s eta 0:00:01\n",
      "     ---------------------------------------  9.2/9.2 MB 10.9 MB/s eta 0:00:01\n",
      "     ---------------------------------------- 9.2/9.2 MB 10.0 MB/s eta 0:00:00\n",
      "Requirement already satisfied: numpy<2.0,>=1.17.3 in c:\\users\\english\\appdata\\local\\programs\\python\\python311\\lib\\site-packages (from scikit-learn) (1.26.1)\n",
      "Collecting scipy>=1.5.0 (from scikit-learn)\n",
      "  Downloading scipy-1.11.3-cp311-cp311-win_amd64.whl (44.1 MB)\n",
      "                                              0.0/44.1 MB ? eta -:--:--\n",
      "                                              0.5/44.1 MB 14.7 MB/s eta 0:00:03\n",
      "                                              1.0/44.1 MB 13.1 MB/s eta 0:00:04\n",
      "     -                                        1.6/44.1 MB 12.7 MB/s eta 0:00:04\n",
      "     -                                        2.2/44.1 MB 12.5 MB/s eta 0:00:04\n",
      "     --                                       2.7/44.1 MB 12.3 MB/s eta 0:00:04\n",
      "     --                                       3.3/44.1 MB 12.3 MB/s eta 0:00:04\n",
      "     ---                                      3.9/44.1 MB 12.3 MB/s eta 0:00:04\n",
      "     ---                                      4.4/44.1 MB 12.1 MB/s eta 0:00:04\n",
      "     ----                                     4.9/44.1 MB 12.1 MB/s eta 0:00:04\n",
      "     ----                                     5.5/44.1 MB 12.1 MB/s eta 0:00:04\n",
      "     -----                                    6.1/44.1 MB 12.1 MB/s eta 0:00:04\n",
      "     ------                                   6.6/44.1 MB 12.1 MB/s eta 0:00:04\n",
      "     ------                                   7.2/44.1 MB 12.0 MB/s eta 0:00:04\n",
      "     -------                                  7.7/44.1 MB 12.0 MB/s eta 0:00:04\n",
      "     -------                                  8.3/44.1 MB 12.0 MB/s eta 0:00:03\n",
      "     --------                                 8.8/44.1 MB 12.0 MB/s eta 0:00:03\n",
      "     --------                                 9.4/44.1 MB 12.0 MB/s eta 0:00:03\n",
      "     ---------                                9.9/44.1 MB 12.0 MB/s eta 0:00:03\n",
      "     ---------                               10.5/44.1 MB 11.9 MB/s eta 0:00:03\n",
      "     ---------                               11.0/44.1 MB 11.9 MB/s eta 0:00:03\n",
      "     ----------                              11.6/44.1 MB 11.9 MB/s eta 0:00:03\n",
      "     ----------                              12.1/44.1 MB 11.9 MB/s eta 0:00:03\n",
      "     -----------                             12.7/44.1 MB 11.9 MB/s eta 0:00:03\n",
      "     -----------                             13.3/44.1 MB 11.9 MB/s eta 0:00:03\n",
      "     ------------                            13.8/44.1 MB 11.9 MB/s eta 0:00:03\n",
      "     ------------                            14.4/44.1 MB 11.9 MB/s eta 0:00:03\n",
      "     -------------                           14.9/44.1 MB 11.9 MB/s eta 0:00:03\n",
      "     -------------                           15.5/44.1 MB 11.9 MB/s eta 0:00:03\n",
      "     --------------                          16.0/44.1 MB 11.9 MB/s eta 0:00:03\n",
      "     --------------                          16.6/44.1 MB 11.9 MB/s eta 0:00:03\n",
      "     ---------------                         17.1/44.1 MB 11.9 MB/s eta 0:00:03\n",
      "     ---------------                         17.6/44.1 MB 11.9 MB/s eta 0:00:03\n",
      "     ----------------                        18.2/44.1 MB 11.9 MB/s eta 0:00:03\n",
      "     ----------------                        18.8/44.1 MB 11.9 MB/s eta 0:00:03\n",
      "     -----------------                       19.3/44.1 MB 11.9 MB/s eta 0:00:03\n",
      "     -----------------                       19.9/44.1 MB 11.9 MB/s eta 0:00:03\n",
      "     ------------------                      20.4/44.1 MB 11.9 MB/s eta 0:00:02\n",
      "     ------------------                      21.0/44.1 MB 11.9 MB/s eta 0:00:02\n",
      "     -------------------                     21.5/44.1 MB 11.9 MB/s eta 0:00:02\n",
      "     -------------------                     22.1/44.1 MB 11.9 MB/s eta 0:00:02\n",
      "     --------------------                    22.6/44.1 MB 11.9 MB/s eta 0:00:02\n",
      "     --------------------                    23.2/44.1 MB 11.9 MB/s eta 0:00:02\n",
      "     --------------------                    23.7/44.1 MB 11.9 MB/s eta 0:00:02\n",
      "     ---------------------                   24.3/44.1 MB 11.9 MB/s eta 0:00:02\n",
      "     ---------------------                   24.8/44.1 MB 11.9 MB/s eta 0:00:02\n",
      "     ----------------------                  25.4/44.1 MB 11.9 MB/s eta 0:00:02\n",
      "     ----------------------                  26.0/44.1 MB 11.9 MB/s eta 0:00:02\n",
      "     -----------------------                 26.5/44.1 MB 11.9 MB/s eta 0:00:02\n",
      "     -----------------------                 27.1/44.1 MB 11.9 MB/s eta 0:00:02\n",
      "     ------------------------                27.6/44.1 MB 11.9 MB/s eta 0:00:02\n",
      "     ------------------------                28.2/44.1 MB 11.9 MB/s eta 0:00:02\n",
      "     -------------------------               28.7/44.1 MB 11.9 MB/s eta 0:00:02\n",
      "     -------------------------               29.3/44.1 MB 11.9 MB/s eta 0:00:02\n",
      "     --------------------------              29.9/44.1 MB 11.9 MB/s eta 0:00:02\n",
      "     --------------------------              30.4/44.1 MB 11.9 MB/s eta 0:00:02\n",
      "     ---------------------------             30.9/44.1 MB 11.9 MB/s eta 0:00:02\n",
      "     ---------------------------             31.5/44.1 MB 11.9 MB/s eta 0:00:02\n",
      "     ----------------------------            32.0/44.1 MB 11.9 MB/s eta 0:00:02\n",
      "     ----------------------------            32.6/44.1 MB 11.9 MB/s eta 0:00:01\n",
      "     -----------------------------           33.2/44.1 MB 11.9 MB/s eta 0:00:01\n",
      "     -----------------------------           33.7/44.1 MB 11.9 MB/s eta 0:00:01\n",
      "     ------------------------------          34.3/44.1 MB 11.9 MB/s eta 0:00:01\n",
      "     ------------------------------          34.8/44.1 MB 11.7 MB/s eta 0:00:01\n",
      "     -------------------------------         35.3/44.1 MB 11.7 MB/s eta 0:00:01\n",
      "     -------------------------------         35.9/44.1 MB 11.7 MB/s eta 0:00:01\n",
      "     --------------------------------        36.5/44.1 MB 11.9 MB/s eta 0:00:01\n",
      "     --------------------------------        37.0/44.1 MB 11.9 MB/s eta 0:00:01\n",
      "     ---------------------------------       37.6/44.1 MB 11.7 MB/s eta 0:00:01\n",
      "     ---------------------------------       38.1/44.1 MB 11.7 MB/s eta 0:00:01\n",
      "     ----------------------------------      38.7/44.1 MB 11.9 MB/s eta 0:00:01\n",
      "     ----------------------------------      39.2/44.1 MB 11.9 MB/s eta 0:00:01\n",
      "     -----------------------------------     39.8/44.1 MB 11.7 MB/s eta 0:00:01\n",
      "     -----------------------------------     40.3/44.1 MB 11.7 MB/s eta 0:00:01\n",
      "     ------------------------------------    40.9/44.1 MB 11.7 MB/s eta 0:00:01\n",
      "     ------------------------------------    41.4/44.1 MB 11.7 MB/s eta 0:00:01\n",
      "     -------------------------------------   42.0/44.1 MB 11.7 MB/s eta 0:00:01\n",
      "     -------------------------------------   42.5/44.1 MB 11.7 MB/s eta 0:00:01\n",
      "     --------------------------------------  43.1/44.1 MB 11.7 MB/s eta 0:00:01\n",
      "     --------------------------------------  43.7/44.1 MB 11.7 MB/s eta 0:00:01\n",
      "     --------------------------------------  44.1/44.1 MB 11.9 MB/s eta 0:00:01\n",
      "     --------------------------------------  44.1/44.1 MB 11.9 MB/s eta 0:00:01\n",
      "     --------------------------------------  44.1/44.1 MB 11.9 MB/s eta 0:00:01\n",
      "     --------------------------------------  44.1/44.1 MB 11.9 MB/s eta 0:00:01\n",
      "     --------------------------------------  44.1/44.1 MB 11.9 MB/s eta 0:00:01\n",
      "     ---------------------------------------- 44.1/44.1 MB 9.2 MB/s eta 0:00:00\n",
      "Collecting joblib>=1.1.1 (from scikit-learn)\n",
      "  Downloading joblib-1.3.2-py3-none-any.whl (302 kB)\n",
      "                                              0.0/302.2 kB ? eta -:--:--\n",
      "     -------------------------------------- 302.2/302.2 kB 9.4 MB/s eta 0:00:00\n",
      "Collecting threadpoolctl>=2.0.0 (from scikit-learn)\n",
      "  Downloading threadpoolctl-3.2.0-py3-none-any.whl (15 kB)\n",
      "Installing collected packages: threadpoolctl, scipy, joblib, scikit-learn\n",
      "Successfully installed joblib-1.3.2 scikit-learn-1.3.2 scipy-1.11.3 threadpoolctl-3.2.0\n",
      "Note: you may need to restart the kernel to use updated packages.\n"
     ]
    },
    {
     "name": "stderr",
     "output_type": "stream",
     "text": [
      "\n",
      "[notice] A new release of pip is available: 23.1.2 -> 23.3.1\n",
      "[notice] To update, run: python.exe -m pip install --upgrade pip\n"
     ]
    }
   ],
   "source": [
    "pip install scikit-learn"
   ]
  },
  {
   "cell_type": "code",
   "execution_count": 13,
   "metadata": {},
   "outputs": [
    {
     "data": {
      "text/plain": [
       "Index(['Product type', 'SKU', 'Price', 'Availability',\n",
       "       'Number of products sold', 'Revenue generated', 'Customer demographics',\n",
       "       'Stock levels', 'Lead times', 'Order quantities', 'Shipping times',\n",
       "       'Shipping carriers', 'Shipping costs', 'Supplier name', 'Location',\n",
       "       'Lead time', 'Production volumes', 'Manufacturing lead time',\n",
       "       'Manufacturing costs', 'Inspection results', 'Defect rates',\n",
       "       'Transportation modes', 'Routes', 'Costs'],\n",
       "      dtype='object')"
      ]
     },
     "execution_count": 13,
     "metadata": {},
     "output_type": "execute_result"
    }
   ],
   "source": [
    "df.head(1)\n",
    "df.columns"
   ]
  },
  {
   "cell_type": "code",
   "execution_count": 21,
   "metadata": {},
   "outputs": [
    {
     "data": {
      "text/html": [
       "<div>\n",
       "<style scoped>\n",
       "    .dataframe tbody tr th:only-of-type {\n",
       "        vertical-align: middle;\n",
       "    }\n",
       "\n",
       "    .dataframe tbody tr th {\n",
       "        vertical-align: top;\n",
       "    }\n",
       "\n",
       "    .dataframe thead th {\n",
       "        text-align: right;\n",
       "    }\n",
       "</style>\n",
       "<table border=\"1\" class=\"dataframe\">\n",
       "  <thead>\n",
       "    <tr style=\"text-align: right;\">\n",
       "      <th></th>\n",
       "      <th>Product type</th>\n",
       "      <th>SKU</th>\n",
       "      <th>Price</th>\n",
       "      <th>Availability</th>\n",
       "      <th>Number of products sold</th>\n",
       "      <th>Revenue generated</th>\n",
       "      <th>Customer demographics</th>\n",
       "      <th>Stock levels</th>\n",
       "      <th>Lead times</th>\n",
       "      <th>Order quantities</th>\n",
       "      <th>...</th>\n",
       "      <th>Location</th>\n",
       "      <th>Lead time</th>\n",
       "      <th>Production volumes</th>\n",
       "      <th>Manufacturing lead time</th>\n",
       "      <th>Manufacturing costs</th>\n",
       "      <th>Inspection results</th>\n",
       "      <th>Defect rates</th>\n",
       "      <th>Transportation modes</th>\n",
       "      <th>Routes</th>\n",
       "      <th>Costs</th>\n",
       "    </tr>\n",
       "  </thead>\n",
       "  <tbody>\n",
       "    <tr>\n",
       "      <th>0</th>\n",
       "      <td>haircare</td>\n",
       "      <td>SKU0</td>\n",
       "      <td>69.808006</td>\n",
       "      <td>55</td>\n",
       "      <td>802</td>\n",
       "      <td>8661.996792</td>\n",
       "      <td>Non-binary</td>\n",
       "      <td>58</td>\n",
       "      <td>7</td>\n",
       "      <td>96</td>\n",
       "      <td>...</td>\n",
       "      <td>Mumbai</td>\n",
       "      <td>29</td>\n",
       "      <td>215</td>\n",
       "      <td>29</td>\n",
       "      <td>46.279879</td>\n",
       "      <td>Pending</td>\n",
       "      <td>0.226410</td>\n",
       "      <td>Road</td>\n",
       "      <td>Route B</td>\n",
       "      <td>187.752075</td>\n",
       "    </tr>\n",
       "    <tr>\n",
       "      <th>1</th>\n",
       "      <td>skincare</td>\n",
       "      <td>SKU1</td>\n",
       "      <td>14.843523</td>\n",
       "      <td>95</td>\n",
       "      <td>736</td>\n",
       "      <td>7460.900065</td>\n",
       "      <td>Female</td>\n",
       "      <td>53</td>\n",
       "      <td>30</td>\n",
       "      <td>37</td>\n",
       "      <td>...</td>\n",
       "      <td>Mumbai</td>\n",
       "      <td>23</td>\n",
       "      <td>517</td>\n",
       "      <td>30</td>\n",
       "      <td>33.616769</td>\n",
       "      <td>Pending</td>\n",
       "      <td>4.854068</td>\n",
       "      <td>Road</td>\n",
       "      <td>Route B</td>\n",
       "      <td>503.065579</td>\n",
       "    </tr>\n",
       "    <tr>\n",
       "      <th>2</th>\n",
       "      <td>haircare</td>\n",
       "      <td>SKU2</td>\n",
       "      <td>11.319683</td>\n",
       "      <td>34</td>\n",
       "      <td>8</td>\n",
       "      <td>9577.749626</td>\n",
       "      <td>Unknown</td>\n",
       "      <td>1</td>\n",
       "      <td>10</td>\n",
       "      <td>88</td>\n",
       "      <td>...</td>\n",
       "      <td>Mumbai</td>\n",
       "      <td>12</td>\n",
       "      <td>971</td>\n",
       "      <td>27</td>\n",
       "      <td>30.688019</td>\n",
       "      <td>Pending</td>\n",
       "      <td>4.580593</td>\n",
       "      <td>Air</td>\n",
       "      <td>Route C</td>\n",
       "      <td>141.920282</td>\n",
       "    </tr>\n",
       "  </tbody>\n",
       "</table>\n",
       "<p>3 rows × 24 columns</p>\n",
       "</div>"
      ],
      "text/plain": [
       "  Product type   SKU      Price  Availability  Number of products sold  \\\n",
       "0     haircare  SKU0  69.808006            55                      802   \n",
       "1     skincare  SKU1  14.843523            95                      736   \n",
       "2     haircare  SKU2  11.319683            34                        8   \n",
       "\n",
       "   Revenue generated Customer demographics  Stock levels  Lead times  \\\n",
       "0        8661.996792            Non-binary            58           7   \n",
       "1        7460.900065                Female            53          30   \n",
       "2        9577.749626               Unknown             1          10   \n",
       "\n",
       "   Order quantities  ...  Location Lead time  Production volumes  \\\n",
       "0                96  ...    Mumbai        29                 215   \n",
       "1                37  ...    Mumbai        23                 517   \n",
       "2                88  ...    Mumbai        12                 971   \n",
       "\n",
       "  Manufacturing lead time Manufacturing costs  Inspection results  \\\n",
       "0                      29           46.279879             Pending   \n",
       "1                      30           33.616769             Pending   \n",
       "2                      27           30.688019             Pending   \n",
       "\n",
       "   Defect rates  Transportation modes   Routes       Costs  \n",
       "0      0.226410                  Road  Route B  187.752075  \n",
       "1      4.854068                  Road  Route B  503.065579  \n",
       "2      4.580593                   Air  Route C  141.920282  \n",
       "\n",
       "[3 rows x 24 columns]"
      ]
     },
     "execution_count": 21,
     "metadata": {},
     "output_type": "execute_result"
    }
   ],
   "source": [
    "df.head(3)"
   ]
  },
  {
   "cell_type": "code",
   "execution_count": 20,
   "metadata": {},
   "outputs": [
    {
     "data": {
      "text/html": [
       "<style>#sk-container-id-1 {color: black;}#sk-container-id-1 pre{padding: 0;}#sk-container-id-1 div.sk-toggleable {background-color: white;}#sk-container-id-1 label.sk-toggleable__label {cursor: pointer;display: block;width: 100%;margin-bottom: 0;padding: 0.3em;box-sizing: border-box;text-align: center;}#sk-container-id-1 label.sk-toggleable__label-arrow:before {content: \"▸\";float: left;margin-right: 0.25em;color: #696969;}#sk-container-id-1 label.sk-toggleable__label-arrow:hover:before {color: black;}#sk-container-id-1 div.sk-estimator:hover label.sk-toggleable__label-arrow:before {color: black;}#sk-container-id-1 div.sk-toggleable__content {max-height: 0;max-width: 0;overflow: hidden;text-align: left;background-color: #f0f8ff;}#sk-container-id-1 div.sk-toggleable__content pre {margin: 0.2em;color: black;border-radius: 0.25em;background-color: #f0f8ff;}#sk-container-id-1 input.sk-toggleable__control:checked~div.sk-toggleable__content {max-height: 200px;max-width: 100%;overflow: auto;}#sk-container-id-1 input.sk-toggleable__control:checked~label.sk-toggleable__label-arrow:before {content: \"▾\";}#sk-container-id-1 div.sk-estimator input.sk-toggleable__control:checked~label.sk-toggleable__label {background-color: #d4ebff;}#sk-container-id-1 div.sk-label input.sk-toggleable__control:checked~label.sk-toggleable__label {background-color: #d4ebff;}#sk-container-id-1 input.sk-hidden--visually {border: 0;clip: rect(1px 1px 1px 1px);clip: rect(1px, 1px, 1px, 1px);height: 1px;margin: -1px;overflow: hidden;padding: 0;position: absolute;width: 1px;}#sk-container-id-1 div.sk-estimator {font-family: monospace;background-color: #f0f8ff;border: 1px dotted black;border-radius: 0.25em;box-sizing: border-box;margin-bottom: 0.5em;}#sk-container-id-1 div.sk-estimator:hover {background-color: #d4ebff;}#sk-container-id-1 div.sk-parallel-item::after {content: \"\";width: 100%;border-bottom: 1px solid gray;flex-grow: 1;}#sk-container-id-1 div.sk-label:hover label.sk-toggleable__label {background-color: #d4ebff;}#sk-container-id-1 div.sk-serial::before {content: \"\";position: absolute;border-left: 1px solid gray;box-sizing: border-box;top: 0;bottom: 0;left: 50%;z-index: 0;}#sk-container-id-1 div.sk-serial {display: flex;flex-direction: column;align-items: center;background-color: white;padding-right: 0.2em;padding-left: 0.2em;position: relative;}#sk-container-id-1 div.sk-item {position: relative;z-index: 1;}#sk-container-id-1 div.sk-parallel {display: flex;align-items: stretch;justify-content: center;background-color: white;position: relative;}#sk-container-id-1 div.sk-item::before, #sk-container-id-1 div.sk-parallel-item::before {content: \"\";position: absolute;border-left: 1px solid gray;box-sizing: border-box;top: 0;bottom: 0;left: 50%;z-index: -1;}#sk-container-id-1 div.sk-parallel-item {display: flex;flex-direction: column;z-index: 1;position: relative;background-color: white;}#sk-container-id-1 div.sk-parallel-item:first-child::after {align-self: flex-end;width: 50%;}#sk-container-id-1 div.sk-parallel-item:last-child::after {align-self: flex-start;width: 50%;}#sk-container-id-1 div.sk-parallel-item:only-child::after {width: 0;}#sk-container-id-1 div.sk-dashed-wrapped {border: 1px dashed gray;margin: 0 0.4em 0.5em 0.4em;box-sizing: border-box;padding-bottom: 0.4em;background-color: white;}#sk-container-id-1 div.sk-label label {font-family: monospace;font-weight: bold;display: inline-block;line-height: 1.2em;}#sk-container-id-1 div.sk-label-container {text-align: center;}#sk-container-id-1 div.sk-container {/* jupyter's `normalize.less` sets `[hidden] { display: none; }` but bootstrap.min.css set `[hidden] { display: none !important; }` so we also need the `!important` here to be able to override the default hidden behavior on the sphinx rendered scikit-learn.org. See: https://github.com/scikit-learn/scikit-learn/issues/21755 */display: inline-block !important;position: relative;}#sk-container-id-1 div.sk-text-repr-fallback {display: none;}</style><div id=\"sk-container-id-1\" class=\"sk-top-container\"><div class=\"sk-text-repr-fallback\"><pre>LinearRegression()</pre><b>In a Jupyter environment, please rerun this cell to show the HTML representation or trust the notebook. <br />On GitHub, the HTML representation is unable to render, please try loading this page with nbviewer.org.</b></div><div class=\"sk-container\" hidden><div class=\"sk-item\"><div class=\"sk-estimator sk-toggleable\"><input class=\"sk-toggleable__control sk-hidden--visually\" id=\"sk-estimator-id-1\" type=\"checkbox\" checked><label for=\"sk-estimator-id-1\" class=\"sk-toggleable__label sk-toggleable__label-arrow\">LinearRegression</label><div class=\"sk-toggleable__content\"><pre>LinearRegression()</pre></div></div></div></div></div>"
      ],
      "text/plain": [
       "LinearRegression()"
      ]
     },
     "execution_count": 20,
     "metadata": {},
     "output_type": "execute_result"
    }
   ],
   "source": [
    "## Training the model\n",
    "from sklearn.linear_model import LinearRegression\n",
    "model = LinearRegression() \n",
    "\n",
    "model.fit(df[['Number of products sold','Stock levels','Order quantities']],df['Availability']) "
   ]
  },
  {
   "cell_type": "code",
   "execution_count": 22,
   "metadata": {},
   "outputs": [
    {
     "name": "stderr",
     "output_type": "stream",
     "text": [
      "c:\\Users\\english\\AppData\\Local\\Programs\\Python\\Python311\\Lib\\site-packages\\sklearn\\base.py:465: UserWarning: X does not have valid feature names, but LinearRegression was fitted with feature names\n",
      "  warnings.warn(\n"
     ]
    },
    {
     "data": {
      "text/plain": [
       "array([51.31216456])"
      ]
     },
     "execution_count": 22,
     "metadata": {},
     "output_type": "execute_result"
    }
   ],
   "source": [
    "## Predictions\n",
    "\n",
    "model.predict([[8, 1, 88]])"
   ]
  },
  {
   "cell_type": "code",
   "execution_count": 23,
   "metadata": {},
   "outputs": [
    {
     "name": "stderr",
     "output_type": "stream",
     "text": [
      "c:\\Users\\english\\AppData\\Local\\Programs\\Python\\Python311\\Lib\\site-packages\\sklearn\\base.py:465: UserWarning: X does not have valid feature names, but LinearRegression was fitted with feature names\n",
      "  warnings.warn(\n"
     ]
    },
    {
     "data": {
      "text/plain": [
       "array([41.9271494])"
      ]
     },
     "execution_count": 23,
     "metadata": {},
     "output_type": "execute_result"
    }
   ],
   "source": [
    "model.predict([[10,2,30]])"
   ]
  },
  {
   "cell_type": "code",
   "execution_count": 24,
   "metadata": {},
   "outputs": [
    {
     "data": {
      "text/plain": [
       "0.028073982412487042"
      ]
     },
     "execution_count": 24,
     "metadata": {},
     "output_type": "execute_result"
    }
   ],
   "source": [
    "model.score(df[['Number of products sold','Stock levels','Order quantities']],df['Availability']) #accuracy"
   ]
  },
  {
   "cell_type": "code",
   "execution_count": 25,
   "metadata": {},
   "outputs": [
    {
     "data": {
      "text/plain": [
       "array([ 0.00865366, -0.0118348 ,  0.16190496])"
      ]
     },
     "execution_count": 25,
     "metadata": {},
     "output_type": "execute_result"
    }
   ],
   "source": [
    "model.coef_"
   ]
  },
  {
   "cell_type": "code",
   "execution_count": 26,
   "metadata": {},
   "outputs": [
    {
     "data": {
      "text/plain": [
       "37.00713355018874"
      ]
     },
     "execution_count": 26,
     "metadata": {},
     "output_type": "execute_result"
    }
   ],
   "source": [
    "model.intercept_"
   ]
  },
  {
   "cell_type": "code",
   "execution_count": 28,
   "metadata": {},
   "outputs": [
    {
     "data": {
      "text/plain": [
       "41.92714935018874"
      ]
     },
     "execution_count": 28,
     "metadata": {},
     "output_type": "execute_result"
    }
   ],
   "source": [
    "## verification\n",
    "y = 0.00865366* 10 + (-0.0118348)*2 +0.16190496*30 + 37.00713355018874\n",
    "y"
   ]
  },
  {
   "cell_type": "code",
   "execution_count": 33,
   "metadata": {},
   "outputs": [
    {
     "name": "stdout",
     "output_type": "stream",
     "text": [
      "Collecting matplotlib\n",
      "  Downloading matplotlib-3.8.1-cp311-cp311-win_amd64.whl (7.6 MB)\n",
      "                                              0.0/7.6 MB ? eta -:--:--\n",
      "                                              0.1/7.6 MB 6.8 MB/s eta 0:00:02\n",
      "     -                                        0.4/7.6 MB 4.6 MB/s eta 0:00:02\n",
      "     ----                                     0.8/7.6 MB 6.1 MB/s eta 0:00:02\n",
      "     -----                                    1.0/7.6 MB 7.2 MB/s eta 0:00:01\n",
      "     --------                                 1.7/7.6 MB 7.6 MB/s eta 0:00:01\n",
      "     ----------                               2.1/7.6 MB 8.9 MB/s eta 0:00:01\n",
      "     ---------------                          3.0/7.6 MB 9.6 MB/s eta 0:00:01\n",
      "     ------------------                       3.6/7.6 MB 9.9 MB/s eta 0:00:01\n",
      "     ---------------------                    4.1/7.6 MB 10.1 MB/s eta 0:00:01\n",
      "     ------------------------                 4.6/7.6 MB 10.2 MB/s eta 0:00:01\n",
      "     ---------------------------              5.2/7.6 MB 10.4 MB/s eta 0:00:01\n",
      "     ------------------------------           5.7/7.6 MB 10.5 MB/s eta 0:00:01\n",
      "     --------------------------------         6.3/7.6 MB 10.6 MB/s eta 0:00:01\n",
      "     -----------------------------------      6.9/7.6 MB 10.7 MB/s eta 0:00:01\n",
      "     --------------------------------------   7.4/7.6 MB 10.8 MB/s eta 0:00:01\n",
      "     ---------------------------------------  7.6/7.6 MB 10.9 MB/s eta 0:00:01\n",
      "     ---------------------------------------- 7.6/7.6 MB 10.2 MB/s eta 0:00:00\n",
      "Collecting contourpy>=1.0.1 (from matplotlib)\n",
      "  Downloading contourpy-1.2.0-cp311-cp311-win_amd64.whl (187 kB)\n",
      "                                              0.0/187.6 kB ? eta -:--:--\n",
      "     ------------------------------------- 187.6/187.6 kB 11.1 MB/s eta 0:00:00\n",
      "Collecting cycler>=0.10 (from matplotlib)\n",
      "  Downloading cycler-0.12.1-py3-none-any.whl (8.3 kB)\n",
      "Collecting fonttools>=4.22.0 (from matplotlib)\n",
      "  Downloading fonttools-4.44.0-cp311-cp311-win_amd64.whl (2.1 MB)\n",
      "                                              0.0/2.1 MB ? eta -:--:--\n",
      "     --------                                 0.4/2.1 MB 13.5 MB/s eta 0:00:01\n",
      "     ------------------                       1.0/2.1 MB 12.3 MB/s eta 0:00:01\n",
      "     ----------------------------             1.5/2.1 MB 12.0 MB/s eta 0:00:01\n",
      "     --------------------------------------   2.1/2.1 MB 12.1 MB/s eta 0:00:01\n",
      "     ---------------------------------------- 2.1/2.1 MB 10.5 MB/s eta 0:00:00\n",
      "Collecting kiwisolver>=1.3.1 (from matplotlib)\n",
      "  Downloading kiwisolver-1.4.5-cp311-cp311-win_amd64.whl (56 kB)\n",
      "                                              0.0/56.1 kB ? eta -:--:--\n",
      "     ---------------------------------------- 56.1/56.1 kB 3.1 MB/s eta 0:00:00\n",
      "Requirement already satisfied: numpy<2,>=1.21 in c:\\users\\english\\appdata\\local\\programs\\python\\python311\\lib\\site-packages (from matplotlib) (1.26.1)\n",
      "Requirement already satisfied: packaging>=20.0 in c:\\users\\english\\appdata\\roaming\\python\\python311\\site-packages (from matplotlib) (23.1)\n",
      "Collecting pillow>=8 (from matplotlib)\n",
      "  Downloading Pillow-10.1.0-cp311-cp311-win_amd64.whl (2.6 MB)\n",
      "                                              0.0/2.6 MB ? eta -:--:--\n",
      "     ------                                   0.4/2.6 MB 25.0 MB/s eta 0:00:01\n",
      "     ----------------                         1.1/2.6 MB 14.0 MB/s eta 0:00:01\n",
      "     -------------------------                1.7/2.6 MB 13.4 MB/s eta 0:00:01\n",
      "     ----------------------------------       2.2/2.6 MB 12.9 MB/s eta 0:00:01\n",
      "     ---------------------------------------  2.6/2.6 MB 12.8 MB/s eta 0:00:01\n",
      "     ---------------------------------------- 2.6/2.6 MB 11.1 MB/s eta 0:00:00\n",
      "Collecting pyparsing>=2.3.1 (from matplotlib)\n",
      "  Downloading pyparsing-3.1.1-py3-none-any.whl (103 kB)\n",
      "                                              0.0/103.1 kB ? eta -:--:--\n",
      "     -------------------------------------- 103.1/103.1 kB 6.2 MB/s eta 0:00:00\n",
      "Requirement already satisfied: python-dateutil>=2.7 in c:\\users\\english\\appdata\\roaming\\python\\python311\\site-packages (from matplotlib) (2.8.2)\n",
      "Requirement already satisfied: six>=1.5 in c:\\users\\english\\appdata\\roaming\\python\\python311\\site-packages (from python-dateutil>=2.7->matplotlib) (1.16.0)\n",
      "Installing collected packages: pyparsing, pillow, kiwisolver, fonttools, cycler, contourpy, matplotlib\n",
      "Successfully installed contourpy-1.2.0 cycler-0.12.1 fonttools-4.44.0 kiwisolver-1.4.5 matplotlib-3.8.1 pillow-10.1.0 pyparsing-3.1.1\n",
      "Note: you may need to restart the kernel to use updated packages.\n"
     ]
    },
    {
     "name": "stderr",
     "output_type": "stream",
     "text": [
      "  WARNING: The scripts fonttools.exe, pyftmerge.exe, pyftsubset.exe and ttx.exe are installed in 'c:\\Users\\english\\AppData\\Local\\Programs\\Python\\Python311\\Scripts' which is not on PATH.\n",
      "  Consider adding this directory to PATH or, if you prefer to suppress this warning, use --no-warn-script-location.\n",
      "\n",
      "[notice] A new release of pip is available: 23.1.2 -> 23.3.1\n",
      "[notice] To update, run: python.exe -m pip install --upgrade pip\n"
     ]
    }
   ],
   "source": [
    "pip install matplotlib"
   ]
  },
  {
   "cell_type": "code",
   "execution_count": 35,
   "metadata": {},
   "outputs": [
    {
     "data": {
      "image/png": "[encoded data removed]",
      "text/plain": [
       "<Figure size 640x480 with 1 Axes>"
      ]
     },
     "metadata": {},
     "output_type": "display_data"
    }
   ],
   "source": [
    "import matplotlib.pyplot as plt\n",
    "from mpl_toolkits.mplot3d import Axes3D\n",
    "\n",
    "fig = plt.figure()\n",
    "ax = fig.add_subplot(111, projection='3d')\n",
    "\n",
    "ax.scatter(df['Number of products sold'],df['Stock levels'],df['Order quantities'], c='r', marker ='o')\n",
    "plt.show()"
   ]
  },
  {
   "cell_type": "code",
   "execution_count": null,
   "metadata": {},
   "outputs": [],
   "source": []
  }
 ],
 "metadata": {
  "kernelspec": {
   "display_name": "Python 3",
   "language": "python",
   "name": "python3"
  },
  "language_info": {
   "codemirror_mode": {
    "name": "ipython",
    "version": 3
   },
   "file_extension": ".py",
   "mimetype": "text/x-python",
   "name": "python",
   "nbconvert_exporter": "python",
   "pygments_lexer": "ipython3",
   "version": "3.11.4"
  }
 },
 "nbformat": 4,
 "nbformat_minor": 2
}
