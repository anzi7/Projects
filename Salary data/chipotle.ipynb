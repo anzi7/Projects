{
 "cells": [
  {
   "cell_type": "code",
   "execution_count": 2,
   "metadata": {},
   "outputs": [],
   "source": [
    "import pandas as pd\n",
    "\n",
    "# Reading TSV file\n",
    "\n",
    "tsv_file_path = \"C:\\\\Users\\\\english\\\\Desktop\\\\Week 3 - Data Cleaning (Pandas) - 2\\\\chipotle.tsv\"\n",
    "\n",
    "df = pd.read_csv(tsv_file_path, sep='\\t')\n",
    "\n"
   ]
  },
  {
   "cell_type": "code",
   "execution_count": 3,
   "metadata": {},
   "outputs": [
    {
     "data": {
      "text/html": [
       "<div>\n",
       "<style scoped>\n",
       "    .dataframe tbody tr th:only-of-type {\n",
       "        vertical-align: middle;\n",
       "    }\n",
       "\n",
       "    .dataframe tbody tr th {\n",
       "        vertical-align: top;\n",
       "    }\n",
       "\n",
       "    .dataframe thead th {\n",
       "        text-align: right;\n",
       "    }\n",
       "</style>\n",
       "<table border=\"1\" class=\"dataframe\">\n",
       "  <thead>\n",
       "    <tr style=\"text-align: right;\">\n",
       "      <th></th>\n",
       "      <th>order_id</th>\n",
       "      <th>quantity</th>\n",
       "      <th>item_name</th>\n",
       "      <th>choice_description</th>\n",
       "      <th>item_price</th>\n",
       "    </tr>\n",
       "  </thead>\n",
       "  <tbody>\n",
       "    <tr>\n",
       "      <th>0</th>\n",
       "      <td>1</td>\n",
       "      <td>1</td>\n",
       "      <td>Chips and Fresh Tomato Salsa</td>\n",
       "      <td>NaN</td>\n",
       "      <td>$2.39</td>\n",
       "    </tr>\n",
       "    <tr>\n",
       "      <th>1</th>\n",
       "      <td>1</td>\n",
       "      <td>1</td>\n",
       "      <td>Izze</td>\n",
       "      <td>[Clementine]</td>\n",
       "      <td>$3.39</td>\n",
       "    </tr>\n",
       "    <tr>\n",
       "      <th>2</th>\n",
       "      <td>1</td>\n",
       "      <td>1</td>\n",
       "      <td>Nantucket Nectar</td>\n",
       "      <td>[Apple]</td>\n",
       "      <td>$3.39</td>\n",
       "    </tr>\n",
       "    <tr>\n",
       "      <th>3</th>\n",
       "      <td>1</td>\n",
       "      <td>1</td>\n",
       "      <td>Chips and Tomatillo-Green Chili Salsa</td>\n",
       "      <td>NaN</td>\n",
       "      <td>$2.39</td>\n",
       "    </tr>\n",
       "    <tr>\n",
       "      <th>4</th>\n",
       "      <td>2</td>\n",
       "      <td>2</td>\n",
       "      <td>Chicken Bowl</td>\n",
       "      <td>[Tomatillo-Red Chili Salsa (Hot), [Black Beans...</td>\n",
       "      <td>$16.98</td>\n",
       "    </tr>\n",
       "  </tbody>\n",
       "</table>\n",
       "</div>"
      ],
      "text/plain": [
       "   order_id  quantity                              item_name  \\\n",
       "0         1         1           Chips and Fresh Tomato Salsa   \n",
       "1         1         1                                   Izze   \n",
       "2         1         1                       Nantucket Nectar   \n",
       "3         1         1  Chips and Tomatillo-Green Chili Salsa   \n",
       "4         2         2                           Chicken Bowl   \n",
       "\n",
       "                                  choice_description item_price  \n",
       "0                                                NaN     $2.39   \n",
       "1                                       [Clementine]     $3.39   \n",
       "2                                            [Apple]     $3.39   \n",
       "3                                                NaN     $2.39   \n",
       "4  [Tomatillo-Red Chili Salsa (Hot), [Black Beans...    $16.98   "
      ]
     },
     "execution_count": 3,
     "metadata": {},
     "output_type": "execute_result"
    }
   ],
   "source": [
    "df.head()"
   ]
  },
  {
   "cell_type": "code",
   "execution_count": 4,
   "metadata": {},
   "outputs": [
    {
     "data": {
      "text/html": [
       "<div>\n",
       "<style scoped>\n",
       "    .dataframe tbody tr th:only-of-type {\n",
       "        vertical-align: middle;\n",
       "    }\n",
       "\n",
       "    .dataframe tbody tr th {\n",
       "        vertical-align: top;\n",
       "    }\n",
       "\n",
       "    .dataframe thead th {\n",
       "        text-align: right;\n",
       "    }\n",
       "</style>\n",
       "<table border=\"1\" class=\"dataframe\">\n",
       "  <thead>\n",
       "    <tr style=\"text-align: right;\">\n",
       "      <th></th>\n",
       "      <th>order_id</th>\n",
       "      <th>quantity</th>\n",
       "      <th>item_name</th>\n",
       "      <th>choice_description</th>\n",
       "      <th>item_price</th>\n",
       "    </tr>\n",
       "  </thead>\n",
       "  <tbody>\n",
       "    <tr>\n",
       "      <th>4617</th>\n",
       "      <td>1833</td>\n",
       "      <td>1</td>\n",
       "      <td>Steak Burrito</td>\n",
       "      <td>[Fresh Tomato Salsa, [Rice, Black Beans, Sour ...</td>\n",
       "      <td>$11.75</td>\n",
       "    </tr>\n",
       "    <tr>\n",
       "      <th>4618</th>\n",
       "      <td>1833</td>\n",
       "      <td>1</td>\n",
       "      <td>Steak Burrito</td>\n",
       "      <td>[Fresh Tomato Salsa, [Rice, Sour Cream, Cheese...</td>\n",
       "      <td>$11.75</td>\n",
       "    </tr>\n",
       "    <tr>\n",
       "      <th>4619</th>\n",
       "      <td>1834</td>\n",
       "      <td>1</td>\n",
       "      <td>Chicken Salad Bowl</td>\n",
       "      <td>[Fresh Tomato Salsa, [Fajita Vegetables, Pinto...</td>\n",
       "      <td>$11.25</td>\n",
       "    </tr>\n",
       "    <tr>\n",
       "      <th>4620</th>\n",
       "      <td>1834</td>\n",
       "      <td>1</td>\n",
       "      <td>Chicken Salad Bowl</td>\n",
       "      <td>[Fresh Tomato Salsa, [Fajita Vegetables, Lettu...</td>\n",
       "      <td>$8.75</td>\n",
       "    </tr>\n",
       "    <tr>\n",
       "      <th>4621</th>\n",
       "      <td>1834</td>\n",
       "      <td>1</td>\n",
       "      <td>Chicken Salad Bowl</td>\n",
       "      <td>[Fresh Tomato Salsa, [Fajita Vegetables, Pinto...</td>\n",
       "      <td>$8.75</td>\n",
       "    </tr>\n",
       "  </tbody>\n",
       "</table>\n",
       "</div>"
      ],
      "text/plain": [
       "      order_id  quantity           item_name  \\\n",
       "4617      1833         1       Steak Burrito   \n",
       "4618      1833         1       Steak Burrito   \n",
       "4619      1834         1  Chicken Salad Bowl   \n",
       "4620      1834         1  Chicken Salad Bowl   \n",
       "4621      1834         1  Chicken Salad Bowl   \n",
       "\n",
       "                                     choice_description item_price  \n",
       "4617  [Fresh Tomato Salsa, [Rice, Black Beans, Sour ...    $11.75   \n",
       "4618  [Fresh Tomato Salsa, [Rice, Sour Cream, Cheese...    $11.75   \n",
       "4619  [Fresh Tomato Salsa, [Fajita Vegetables, Pinto...    $11.25   \n",
       "4620  [Fresh Tomato Salsa, [Fajita Vegetables, Lettu...     $8.75   \n",
       "4621  [Fresh Tomato Salsa, [Fajita Vegetables, Pinto...     $8.75   "
      ]
     },
     "execution_count": 4,
     "metadata": {},
     "output_type": "execute_result"
    }
   ],
   "source": [
    "df.tail()"
   ]
  },
  {
   "cell_type": "code",
   "execution_count": 5,
   "metadata": {},
   "outputs": [
    {
     "data": {
      "text/plain": [
       "Index(['order_id', 'quantity', 'item_name', 'choice_description',\n",
       "       'item_price'],\n",
       "      dtype='object')"
      ]
     },
     "execution_count": 5,
     "metadata": {},
     "output_type": "execute_result"
    }
   ],
   "source": [
    "df.columns"
   ]
  },
  {
   "cell_type": "markdown",
   "metadata": {},
   "source": [
    "## 1. Missing Values:"
   ]
  },
  {
   "cell_type": "markdown",
   "metadata": {},
   "source": [
    "\n",
    "\n",
    "Question: Check for missing values in each column (Order ID, Quantity, Item Name, Choice Description, Item Price). How should missing values be handled?\n"
   ]
  },
  {
   "cell_type": "markdown",
   "metadata": {},
   "source": [
    "Ans:\n",
    "\n"
   ]
  },
  {
   "cell_type": "code",
   "execution_count": 6,
   "metadata": {},
   "outputs": [
    {
     "name": "stdout",
     "output_type": "stream",
     "text": [
      "Missing values in each column:\n",
      "order_id                 0\n",
      "quantity                 0\n",
      "item_name                0\n",
      "choice_description    1246\n",
      "item_price               0\n",
      "dtype: int64\n"
     ]
    }
   ],
   "source": [
    "# Check for missing values\n",
    "missing_values = df.isnull().sum()\n",
    "\n",
    "# Display the count of missing values in each column\n",
    "print(\"Missing values in each column:\")\n",
    "print(missing_values)\n",
    "\n",
    "# Handling missing values\n",
    "# Depending on the nature of your data and the context, you can choose an appropriate strategy:\n",
    "\n",
    "# 1. Drop rows with missing values\n",
    "# df.dropna(inplace=True)\n",
    "\n",
    "# 2. Fill missing values with a specific value (e.g., 0)\n",
    "# df.fillna(0, inplace=True)\n",
    "\n",
    "# 3. Fill missing values with the mean or median of the column\n",
    "# df.fillna(df.mean(), inplace=True)  # or df.fillna(df.median(), inplace=True)\n",
    "\n",
    "# 4. Forward fill or backward fill missing values\n",
    "# df.ffill(inplace=True)  # Forward fill\n",
    "# df.bfill(inplace=True)  # Backward fill\n",
    "\n",
    "# 5. Interpolate missing values\n",
    "# df.interpolate(inplace=True)\n",
    "\n",
    "# Choose the strategy based on your specific requirements and the characteristics of your data.\n"
   ]
  },
  {
   "cell_type": "code",
   "execution_count": 10,
   "metadata": {},
   "outputs": [],
   "source": [
    "# Example: Fill missing values with the mode\n",
    "mode_value = df['choice_description'].mode()[0]\n",
    "df['choice_description'].fillna(mode_value, inplace=True)\n"
   ]
  },
  {
   "cell_type": "code",
   "execution_count": 13,
   "metadata": {},
   "outputs": [
    {
     "name": "stdout",
     "output_type": "stream",
     "text": [
      "order_id              0\n",
      "quantity              0\n",
      "item_name             0\n",
      "choice_description    0\n",
      "item_price            0\n",
      "dtype: int64\n"
     ]
    }
   ],
   "source": [
    "missing_values_fill = df.isnull().sum()\n",
    "print(missing_values_fill)\n"
   ]
  },
  {
   "cell_type": "markdown",
   "metadata": {},
   "source": [
    "## 2. Data Types:"
   ]
  },
  {
   "cell_type": "markdown",
   "metadata": {},
   "source": [
    "\n",
    "Question: Verify the data types of each column. Do they align with their expected types, and should any adjustments be made?\n"
   ]
  },
  {
   "cell_type": "markdown",
   "metadata": {},
   "source": [
    "Ans:"
   ]
  },
  {
   "cell_type": "code",
   "execution_count": 17,
   "metadata": {},
   "outputs": [
    {
     "name": "stdout",
     "output_type": "stream",
     "text": [
      "Data types of each column:\n",
      "order_id               int64\n",
      "quantity               int64\n",
      "item_name             object\n",
      "choice_description    object\n",
      "item_price            object\n",
      "dtype: object\n",
      "Updated data types of each column:\n",
      "order_id                int64\n",
      "quantity                int64\n",
      "item_name              object\n",
      "choice_description     object\n",
      "item_price            float64\n",
      "dtype: object\n"
     ]
    }
   ],
   "source": [
    "# Display the data types of each column\n",
    "data_types = df.dtypes\n",
    "print(\"Data types of each column:\")\n",
    "print(data_types)\n",
    "\n",
    "# Check if they align with expected types and make adjustments if needed\n",
    "# Remove non-numeric characters from 'item_price' column\n",
    "df['item_price'] = df['item_price'].replace('[\\$,]', '', regex=True).astype(float)\n",
    "\n",
    "# Display the data types after conversion\n",
    "print(\"Updated data types of each column:\")\n",
    "print(df.dtypes)\n",
    "\n",
    "# Ensure to replace 'df' with the actual variable name of your DataFrame.\n"
   ]
  },
  {
   "cell_type": "markdown",
   "metadata": {},
   "source": [
    "## 3. Duplicated Entries:"
   ]
  },
  {
   "cell_type": "markdown",
   "metadata": {},
   "source": [
    "\n",
    "Question: Identify and handle duplicated entries in the dataset. How might duplicates impact analysis, and what is the appropriate action?\n"
   ]
  },
  {
   "cell_type": "markdown",
   "metadata": {},
   "source": [
    "Ans:"
   ]
  },
  {
   "cell_type": "code",
   "execution_count": 18,
   "metadata": {},
   "outputs": [
    {
     "name": "stdout",
     "output_type": "stream",
     "text": [
      "Duplicated entries:\n",
      "      order_id  quantity                            item_name  \\\n",
      "238        103         1                        Steak Burrito   \n",
      "248        108         1                          Canned Soda   \n",
      "297        129         1                        Steak Burrito   \n",
      "381        165         1                    Canned Soft Drink   \n",
      "484        205         1                         Chicken Bowl   \n",
      "567        233         1                    Canned Soft Drink   \n",
      "617        254         1                                Chips   \n",
      "684        282         1                    Canned Soft Drink   \n",
      "773        319         1                         Chicken Bowl   \n",
      "908        376         1                        Steak Burrito   \n",
      "924        381         1                   Chicken Soft Tacos   \n",
      "1003       412         1                        Bottled Water   \n",
      "1117       462         1                      Chicken Burrito   \n",
      "1203       491         1                      Chicken Burrito   \n",
      "1245       507         1                    Canned Soft Drink   \n",
      "1381       561         1                    Canned Soft Drink   \n",
      "1410       573         1                        Bottled Water   \n",
      "1420       576         1                        Barbacoa Bowl   \n",
      "1421       576         1                  Barbacoa Salad Bowl   \n",
      "1502       610         1                      Chicken Burrito   \n",
      "1534       624         1  Chips and Tomatillo-Red Chili Salsa   \n",
      "1548       628         1                  Chips and Guacamole   \n",
      "1612       651         1                                 Izze   \n",
      "1791       724         1                    Canned Soft Drink   \n",
      "1792       724         1                    Canned Soft Drink   \n",
      "2078       838         1                   Chicken Soft Tacos   \n",
      "2127       856         1                      Chicken Burrito   \n",
      "2307       926         1                         Chicken Bowl   \n",
      "2318       926         1                         Chicken Bowl   \n",
      "2362       940         1                    Canned Soft Drink   \n",
      "2448       972         1                         Chicken Bowl   \n",
      "2553      1011         1                    Canned Soft Drink   \n",
      "2554      1011         1                    Canned Soft Drink   \n",
      "2560      1013         1                  Chips and Guacamole   \n",
      "2576      1020         1  Chips and Tomatillo Red Chili Salsa   \n",
      "2662      1057         1                   Chicken Soft Tacos   \n",
      "2708      1074         1                                Chips   \n",
      "2717      1078         1                         Chicken Bowl   \n",
      "2833      1125         1                      Chicken Burrito   \n",
      "2881      1144         1                        Bottled Water   \n",
      "2973      1182         1                         Chicken Bowl   \n",
      "2977      1184         1                           Steak Bowl   \n",
      "3121      1244         1                  Chips and Guacamole   \n",
      "3430      1377         1  Chips and Tomatillo Red Chili Salsa   \n",
      "3637      1454         1                   Chicken Soft Tacos   \n",
      "3716      1484         1                          Canned Soda   \n",
      "3764      1507         1                      Chicken Burrito   \n",
      "3829      1534         1                      Chicken Burrito   \n",
      "3924      1574         1                        Bottled Water   \n",
      "4112      1647         1                         Chicken Bowl   \n",
      "4155      1660         1                  Chips and Guacamole   \n",
      "4236      1691         1                         Chicken Bowl   \n",
      "4266      1701         1                                Chips   \n",
      "4372      1745         1                  Chips and Guacamole   \n",
      "4463      1778         1                    Canned Soft Drink   \n",
      "4479      1785         1                        Bottled Water   \n",
      "4544      1806         1                        Bottled Water   \n",
      "4570      1817         1                        Bottled Water   \n",
      "4603      1827         1                     Barbacoa Burrito   \n",
      "\n",
      "                                     choice_description  item_price  \n",
      "238   [Tomatillo Red Chili Salsa, [Rice, Black Beans...       11.75  \n",
      "248                                      [Mountain Dew]        1.09  \n",
      "297   [Tomatillo Green Chili Salsa, [Rice, Cheese, G...       11.75  \n",
      "381                                              [Coke]        1.25  \n",
      "484   [Fresh Tomato Salsa, [Fajita Vegetables, Rice,...        8.75  \n",
      "567                                         [Diet Coke]        1.25  \n",
      "617                                                   0        2.15  \n",
      "684                                              [Coke]        1.25  \n",
      "773   [Tomatillo-Green Chili Salsa (Medium), Black B...        8.49  \n",
      "908   [Roasted Chili Corn Salsa (Medium), [Rice, Faj...        8.99  \n",
      "924           [Tomatillo-Red Chili Salsa (Hot), Cheese]        8.49  \n",
      "1003                                                  0        1.50  \n",
      "1117  [Fresh Tomato Salsa, [Rice, Black Beans, Chees...       11.25  \n",
      "1203  [Fresh Tomato Salsa, [Cheese, Sour Cream, Lett...        8.75  \n",
      "1245                                         [Lemonade]        1.25  \n",
      "1381                                             [Coke]        1.25  \n",
      "1410                                                  0        1.50  \n",
      "1420                         [Roasted Chili Corn Salsa]        9.25  \n",
      "1421                         [Roasted Chili Corn Salsa]        9.39  \n",
      "1502  [Fresh Tomato Salsa, [Fajita Vegetables, Rice,...        8.75  \n",
      "1534                                                  0        2.39  \n",
      "1548                                                  0        4.45  \n",
      "1612                                       [Blackberry]        3.39  \n",
      "1791                                             [Coke]        1.25  \n",
      "1792                                             [Coke]        1.25  \n",
      "2078  [Fresh Tomato Salsa, [Cheese, Sour Cream, Lett...        8.75  \n",
      "2127  [Fresh Tomato Salsa, [Rice, Black Beans, Chees...       11.25  \n",
      "2307  [Roasted Chili Corn Salsa, [Fajita Vegetables,...        8.75  \n",
      "2318  [Roasted Chili Corn Salsa, [Fajita Vegetables,...        8.75  \n",
      "2362                                             [Coke]        1.25  \n",
      "2448  [Tomatillo Red Chili Salsa, [Rice, Black Beans...        8.75  \n",
      "2553                                             [Coke]        1.25  \n",
      "2554                                             [Coke]        1.25  \n",
      "2560                                                  0        4.45  \n",
      "2576                                                  0        2.95  \n",
      "2662  [Tomatillo Red Chili Salsa, [Fajita Vegetables...       11.25  \n",
      "2708                                                  0        2.15  \n",
      "2717  [Fresh Tomato Salsa, [Rice, Black Beans, Chees...       11.25  \n",
      "2833      [Fresh Tomato Salsa, [Rice, Cheese, Lettuce]]        8.75  \n",
      "2881                                                  0        1.50  \n",
      "2973  [Tomatillo-Red Chili Salsa (Hot), [Rice, Black...        8.49  \n",
      "2977  [Fresh Tomato Salsa, [Rice, Pinto Beans, Chees...        9.25  \n",
      "3121                                                  0        4.45  \n",
      "3430                                                  0        2.95  \n",
      "3637                         [Fresh Tomato Salsa, Rice]        8.75  \n",
      "3716                                       [Dr. Pepper]        1.09  \n",
      "3764  [Fresh Tomato Salsa, [Rice, Black Beans, Chees...        8.75  \n",
      "3829  [Fresh Tomato Salsa, [Rice, Cheese, Sour Cream...        8.75  \n",
      "3924                                                  0        1.50  \n",
      "4112  [Fresh Tomato Salsa, [Fajita Vegetables, Rice,...       11.25  \n",
      "4155                                                  0        4.45  \n",
      "4236                                       [White Rice]        8.50  \n",
      "4266                                                  0        2.15  \n",
      "4372                                                  0        4.45  \n",
      "4463                                         [Lemonade]        1.25  \n",
      "4479                                                  0        1.50  \n",
      "4544                                                  0        1.50  \n",
      "4570                                                  0        1.50  \n",
      "4603                      [Tomatillo Green Chili Salsa]        9.25  \n",
      "After removing duplicates, the shape of the DataFrame:\n",
      "(4563, 5)\n"
     ]
    }
   ],
   "source": [
    "# Identify duplicated entries\n",
    "duplicates = df[df.duplicated()]\n",
    "\n",
    "# Display duplicated entries\n",
    "print(\"Duplicated entries:\")\n",
    "print(duplicates)\n",
    "\n",
    "# Drop duplicated entries (modify 'df' in place)\n",
    "df.drop_duplicates(inplace=True)\n",
    "\n",
    "# Verify that duplicates are removed\n",
    "print(\"After removing duplicates, the shape of the DataFrame:\")\n",
    "print(df.shape)\n"
   ]
  },
  {
   "cell_type": "markdown",
   "metadata": {},
   "source": [
    "Handling duplicates is crucial for maintaining data integrity and obtaining accurate analysis results. The choice of how to handle duplicates depends on the context of your data and the potential impact on your analysis.\n",
    "\n",
    "\n",
    "\n",
    "\n",
    "\n",
    "\n"
   ]
  },
  {
   "cell_type": "markdown",
   "metadata": {},
   "source": [
    "## 4. Quantity and Item Price:\n",
    "Question: Examine the Quantity and Item Price columns. Are there any inconsistencies or anomalies that need correction?\n"
   ]
  },
  {
   "cell_type": "markdown",
   "metadata": {},
   "source": [
    "Ans:"
   ]
  },
  {
   "cell_type": "markdown",
   "metadata": {},
   "source": [
    "1. Check for Negative Values:"
   ]
  },
  {
   "cell_type": "code",
   "execution_count": 19,
   "metadata": {},
   "outputs": [
    {
     "name": "stdout",
     "output_type": "stream",
     "text": [
      "Rows with negative quantity:\n",
      "Empty DataFrame\n",
      "Columns: [order_id, quantity, item_name, choice_description, item_price]\n",
      "Index: []\n",
      "Rows with negative item price:\n",
      "Empty DataFrame\n",
      "Columns: [order_id, quantity, item_name, choice_description, item_price]\n",
      "Index: []\n"
     ]
    }
   ],
   "source": [
    "# Check for negative values in 'Quantity'\n",
    "negative_quantity = df[df['quantity'] < 0]\n",
    "print(\"Rows with negative quantity:\")\n",
    "print(negative_quantity)\n",
    "\n",
    "# Check for negative values in 'Item Price'\n",
    "negative_price = df[df['item_price'] < 0]\n",
    "print(\"Rows with negative item price:\")\n",
    "print(negative_price)\n"
   ]
  },
  {
   "cell_type": "markdown",
   "metadata": {},
   "source": [
    "2. Check for Zero or Unrealistically Low Values:"
   ]
  },
  {
   "cell_type": "code",
   "execution_count": 20,
   "metadata": {},
   "outputs": [
    {
     "name": "stdout",
     "output_type": "stream",
     "text": [
      "Rows with zero or low quantity:\n",
      "Empty DataFrame\n",
      "Columns: [order_id, quantity, item_name, choice_description, item_price]\n",
      "Index: []\n",
      "Rows with zero or low item price:\n",
      "Empty DataFrame\n",
      "Columns: [order_id, quantity, item_name, choice_description, item_price]\n",
      "Index: []\n"
     ]
    }
   ],
   "source": [
    "# Check for zero or low values in 'Quantity'\n",
    "zero_quantity = df[df['quantity'] <= 0]\n",
    "print(\"Rows with zero or low quantity:\")\n",
    "print(zero_quantity)\n",
    "\n",
    "# Check for zero or low values in 'Item Price'\n",
    "low_price = df[df['item_price'] <= 0]\n",
    "print(\"Rows with zero or low item price:\")\n",
    "print(low_price)\n"
   ]
  },
  {
   "cell_type": "markdown",
   "metadata": {},
   "source": [
    "3. Check Data Types:"
   ]
  },
  {
   "cell_type": "code",
   "execution_count": 21,
   "metadata": {},
   "outputs": [
    {
     "name": "stdout",
     "output_type": "stream",
     "text": [
      "Data types of Quantity and Item Price columns:\n",
      "quantity        int64\n",
      "item_price    float64\n",
      "dtype: object\n"
     ]
    }
   ],
   "source": [
    "# Display data types of 'Quantity' and 'Item Price'\n",
    "print(\"Data types of Quantity and Item Price columns:\")\n",
    "print(df[['quantity', 'item_price']].dtypes)\n"
   ]
  },
  {
   "cell_type": "markdown",
   "metadata": {},
   "source": [
    "4. Visual Inspection:"
   ]
  },
  {
   "cell_type": "code",
   "execution_count": 22,
   "metadata": {},
   "outputs": [
    {
     "name": "stdout",
     "output_type": "stream",
     "text": [
      "Unique values and distributions for Quantity:\n",
      "quantity\n",
      "1     4296\n",
      "2      224\n",
      "3       28\n",
      "4       10\n",
      "5        1\n",
      "15       1\n",
      "7        1\n",
      "8        1\n",
      "10       1\n",
      "Name: count, dtype: int64\n",
      "\n",
      "Unique values and distributions for Item Price:\n",
      "item_price\n",
      "8.75     719\n",
      "11.25    516\n",
      "9.25     395\n",
      "4.45     344\n",
      "8.49     308\n",
      "        ... \n",
      "13.35      1\n",
      "7.50       1\n",
      "4.36       1\n",
      "32.94      1\n",
      "11.49      1\n",
      "Name: count, Length: 78, dtype: int64\n"
     ]
    }
   ],
   "source": [
    "# Display unique values and distributions\n",
    "print(\"Unique values and distributions for Quantity:\")\n",
    "print(df['quantity'].value_counts())\n",
    "\n",
    "print(\"\\nUnique values and distributions for Item Price:\")\n",
    "print(df['item_price'].value_counts())\n"
   ]
  },
  {
   "cell_type": "markdown",
   "metadata": {},
   "source": [
    "## 5. Choice Description:\n",
    "Question: Analyze the Choice Description column. How should choices be handled, especially when there are multiple descriptions for a single item?\n"
   ]
  },
  {
   "cell_type": "markdown",
   "metadata": {},
   "source": [
    "Ans:"
   ]
  },
  {
   "cell_type": "code",
   "execution_count": 26,
   "metadata": {},
   "outputs": [
    {
     "data": {
      "text/html": [
       "<div>\n",
       "<style scoped>\n",
       "    .dataframe tbody tr th:only-of-type {\n",
       "        vertical-align: middle;\n",
       "    }\n",
       "\n",
       "    .dataframe tbody tr th {\n",
       "        vertical-align: top;\n",
       "    }\n",
       "\n",
       "    .dataframe thead th {\n",
       "        text-align: right;\n",
       "    }\n",
       "</style>\n",
       "<table border=\"1\" class=\"dataframe\">\n",
       "  <thead>\n",
       "    <tr style=\"text-align: right;\">\n",
       "      <th></th>\n",
       "      <th>order_id</th>\n",
       "      <th>quantity</th>\n",
       "      <th>item_name</th>\n",
       "      <th>choice_description</th>\n",
       "      <th>item_price</th>\n",
       "      <th>consolidated_description</th>\n",
       "    </tr>\n",
       "  </thead>\n",
       "  <tbody>\n",
       "    <tr>\n",
       "      <th>0</th>\n",
       "      <td>1</td>\n",
       "      <td>1</td>\n",
       "      <td>Chips and Fresh Tomato Salsa</td>\n",
       "      <td>0</td>\n",
       "      <td>2.39</td>\n",
       "      <td>0, 0, 0, 0, 0, 0, 0, 0, 0, 0, 0, 0, 0, 0, 0, 0...</td>\n",
       "    </tr>\n",
       "    <tr>\n",
       "      <th>1</th>\n",
       "      <td>1</td>\n",
       "      <td>1</td>\n",
       "      <td>Izze</td>\n",
       "      <td>[Clementine]</td>\n",
       "      <td>3.39</td>\n",
       "      <td>[Clementine], [Grapefruit], [Blackberry], [Bla...</td>\n",
       "    </tr>\n",
       "    <tr>\n",
       "      <th>2</th>\n",
       "      <td>1</td>\n",
       "      <td>1</td>\n",
       "      <td>Nantucket Nectar</td>\n",
       "      <td>[Apple]</td>\n",
       "      <td>3.39</td>\n",
       "      <td>[Apple], [Pomegranate Cherry], [Pineapple Oran...</td>\n",
       "    </tr>\n",
       "    <tr>\n",
       "      <th>3</th>\n",
       "      <td>1</td>\n",
       "      <td>1</td>\n",
       "      <td>Chips and Tomatillo-Green Chili Salsa</td>\n",
       "      <td>0</td>\n",
       "      <td>2.39</td>\n",
       "      <td>0, 0, 0, 0, 0, 0, 0, 0, 0, 0, 0, 0, 0, 0, 0, 0...</td>\n",
       "    </tr>\n",
       "    <tr>\n",
       "      <th>4</th>\n",
       "      <td>2</td>\n",
       "      <td>2</td>\n",
       "      <td>Chicken Bowl</td>\n",
       "      <td>[Tomatillo-Red Chili Salsa (Hot), [Black Beans...</td>\n",
       "      <td>16.98</td>\n",
       "      <td>[Tomatillo-Red Chili Salsa (Hot), [Black Beans...</td>\n",
       "    </tr>\n",
       "  </tbody>\n",
       "</table>\n",
       "</div>"
      ],
      "text/plain": [
       "   order_id  quantity                              item_name  \\\n",
       "0         1         1           Chips and Fresh Tomato Salsa   \n",
       "1         1         1                                   Izze   \n",
       "2         1         1                       Nantucket Nectar   \n",
       "3         1         1  Chips and Tomatillo-Green Chili Salsa   \n",
       "4         2         2                           Chicken Bowl   \n",
       "\n",
       "                                  choice_description  item_price  \\\n",
       "0                                                  0        2.39   \n",
       "1                                       [Clementine]        3.39   \n",
       "2                                            [Apple]        3.39   \n",
       "3                                                  0        2.39   \n",
       "4  [Tomatillo-Red Chili Salsa (Hot), [Black Beans...       16.98   \n",
       "\n",
       "                            consolidated_description  \n",
       "0  0, 0, 0, 0, 0, 0, 0, 0, 0, 0, 0, 0, 0, 0, 0, 0...  \n",
       "1  [Clementine], [Grapefruit], [Blackberry], [Bla...  \n",
       "2  [Apple], [Pomegranate Cherry], [Pineapple Oran...  \n",
       "3  0, 0, 0, 0, 0, 0, 0, 0, 0, 0, 0, 0, 0, 0, 0, 0...  \n",
       "4  [Tomatillo-Red Chili Salsa (Hot), [Black Beans...  "
      ]
     },
     "execution_count": 26,
     "metadata": {},
     "output_type": "execute_result"
    }
   ],
   "source": [
    "# Convert 'Choice Description' column to strings, replacing NaN with an empty string\n",
    "df['choice_description'] = df['choice_description'].astype(str).replace('nan', '')\n",
    "\n",
    "# Now, you can proceed with the desired operation\n",
    "# Example: Concatenate 'Choice Description' for each item\n",
    "df['consolidated_description'] = df.groupby('item_name')['choice_description'].transform(lambda x: ', '.join(x))\n",
    "df.head(5)\n",
    "# OR\n",
    "\n",
    "# Example: Create dummy variables for 'Choice Description'\n",
    "# df_choices = df['choice_description'].str.get_dummies(', ')\n"
   ]
  },
  {
   "cell_type": "markdown",
   "metadata": {},
   "source": [
    "## 6. Handling Special Characters:\n",
    "Question: Check for special characters in text-based columns (e.g., Item Name, Choice Description). How can these be addressed for consistency?\n"
   ]
  },
  {
   "cell_type": "markdown",
   "metadata": {},
   "source": [
    "Ans:"
   ]
  },
  {
   "cell_type": "code",
   "execution_count": 33,
   "metadata": {},
   "outputs": [
    {
     "data": {
      "text/html": [
       "<div>\n",
       "<style scoped>\n",
       "    .dataframe tbody tr th:only-of-type {\n",
       "        vertical-align: middle;\n",
       "    }\n",
       "\n",
       "    .dataframe tbody tr th {\n",
       "        vertical-align: top;\n",
       "    }\n",
       "\n",
       "    .dataframe thead th {\n",
       "        text-align: right;\n",
       "    }\n",
       "</style>\n",
       "<table border=\"1\" class=\"dataframe\">\n",
       "  <thead>\n",
       "    <tr style=\"text-align: right;\">\n",
       "      <th></th>\n",
       "      <th>order_id</th>\n",
       "      <th>quantity</th>\n",
       "      <th>item_name</th>\n",
       "      <th>choice_description</th>\n",
       "      <th>item_price</th>\n",
       "      <th>consolidated_description</th>\n",
       "    </tr>\n",
       "  </thead>\n",
       "  <tbody>\n",
       "    <tr>\n",
       "      <th>0</th>\n",
       "      <td>1</td>\n",
       "      <td>1</td>\n",
       "      <td>chips and fresh tomato salsa</td>\n",
       "      <td>0</td>\n",
       "      <td>2.39</td>\n",
       "      <td>0, 0, 0, 0, 0, 0, 0, 0, 0, 0, 0, 0, 0, 0, 0, 0...</td>\n",
       "    </tr>\n",
       "    <tr>\n",
       "      <th>1</th>\n",
       "      <td>1</td>\n",
       "      <td>1</td>\n",
       "      <td>izze</td>\n",
       "      <td>clementine</td>\n",
       "      <td>3.39</td>\n",
       "      <td>[Clementine], [Grapefruit], [Blackberry], [Bla...</td>\n",
       "    </tr>\n",
       "    <tr>\n",
       "      <th>2</th>\n",
       "      <td>1</td>\n",
       "      <td>1</td>\n",
       "      <td>nantucket nectar</td>\n",
       "      <td>apple</td>\n",
       "      <td>3.39</td>\n",
       "      <td>[Apple], [Pomegranate Cherry], [Pineapple Oran...</td>\n",
       "    </tr>\n",
       "    <tr>\n",
       "      <th>3</th>\n",
       "      <td>1</td>\n",
       "      <td>1</td>\n",
       "      <td>chips and tomatillogreen chili salsa</td>\n",
       "      <td>0</td>\n",
       "      <td>2.39</td>\n",
       "      <td>0, 0, 0, 0, 0, 0, 0, 0, 0, 0, 0, 0, 0, 0, 0, 0...</td>\n",
       "    </tr>\n",
       "    <tr>\n",
       "      <th>4</th>\n",
       "      <td>2</td>\n",
       "      <td>2</td>\n",
       "      <td>chicken bowl</td>\n",
       "      <td>tomatillored chili salsa hot black beans rice ...</td>\n",
       "      <td>16.98</td>\n",
       "      <td>[Tomatillo-Red Chili Salsa (Hot), [Black Beans...</td>\n",
       "    </tr>\n",
       "  </tbody>\n",
       "</table>\n",
       "</div>"
      ],
      "text/plain": [
       "   order_id  quantity                             item_name  \\\n",
       "0         1         1          chips and fresh tomato salsa   \n",
       "1         1         1                                  izze   \n",
       "2         1         1                      nantucket nectar   \n",
       "3         1         1  chips and tomatillogreen chili salsa   \n",
       "4         2         2                          chicken bowl   \n",
       "\n",
       "                                  choice_description  item_price  \\\n",
       "0                                                  0        2.39   \n",
       "1                                         clementine        3.39   \n",
       "2                                              apple        3.39   \n",
       "3                                                  0        2.39   \n",
       "4  tomatillored chili salsa hot black beans rice ...       16.98   \n",
       "\n",
       "                            consolidated_description  \n",
       "0  0, 0, 0, 0, 0, 0, 0, 0, 0, 0, 0, 0, 0, 0, 0, 0...  \n",
       "1  [Clementine], [Grapefruit], [Blackberry], [Bla...  \n",
       "2  [Apple], [Pomegranate Cherry], [Pineapple Oran...  \n",
       "3  0, 0, 0, 0, 0, 0, 0, 0, 0, 0, 0, 0, 0, 0, 0, 0...  \n",
       "4  [Tomatillo-Red Chili Salsa (Hot), [Black Beans...  "
      ]
     },
     "execution_count": 33,
     "metadata": {},
     "output_type": "execute_result"
    }
   ],
   "source": [
    "# 1. Check for Special Characters:\n",
    "# Check for special characters in 'Item Name'\n",
    "special_chars_item_name = df[df['item_name'].str.contains(r'[^\\w\\s]', na=False)]\n",
    "\n",
    "# Check for special characters in 'Choice Description'\n",
    "special_chars_choice_desc = df[df['choice_description'].str.contains(r'[^\\w\\s]', na=False)]\n",
    "\n",
    "# 2. Handle Special Characters:\n",
    "# Remove special characters from 'Item Name' and 'Choice Description'\n",
    "df['item_name'] = df['item_name'].str.replace(r'[^\\w\\s]', '', regex=True)\n",
    "df['choice_description'] = df['choice_description'].str.replace(r'[^\\w\\s]', '', regex=True)\n",
    "\n",
    "# Replace special characters with underscores in 'Item Name'\n",
    "# df['item_name'] = df['item_name'].str.replace(r'[^\\w\\s]', '_', regex=True)\n",
    "\n",
    "# 3. # Normalize text to lowercase\n",
    "df['item_name'] = df['item_name'].str.lower()\n",
    "df['choice_description'] = df['choice_description'].str.lower()\n",
    "\n",
    "# Encode special characters using Unicode normalization\n",
    "#df['item_name'] = df['item_name'].apply(lambda x: unicodedata.normalize('NFKD', x))\n",
    "#df['choice_description'] = df['choice_description'].apply(lambda x: unicodedata.normalize('NFKD', x))\n",
    "df.head(5)\n",
    "\n",
    "\n"
   ]
  },
  {
   "cell_type": "markdown",
   "metadata": {},
   "source": [
    "## 7. Order Id Integrity:\n",
    "\n",
    "Question: Cross-reference the Order ID column for integrity. Are there any irregularities or patterns that need validation?\n"
   ]
  },
  {
   "cell_type": "markdown",
   "metadata": {},
   "source": [
    "Ans:"
   ]
  },
  {
   "cell_type": "code",
   "execution_count": 40,
   "metadata": {},
   "outputs": [
    {
     "name": "stdout",
     "output_type": "stream",
     "text": [
      "Empty DataFrame\n",
      "Columns: [order_id, quantity, item_name, choice_description, item_price, consolidated_description]\n",
      "Index: []\n",
      "      order_id  quantity                             item_name  \\\n",
      "0            1         1          chips and fresh tomato salsa   \n",
      "1            1         1                                  izze   \n",
      "2            1         1                      nantucket nectar   \n",
      "3            1         1  chips and tomatillogreen chili salsa   \n",
      "4            2         2                          chicken bowl   \n",
      "...        ...       ...                                   ...   \n",
      "4617      1833         1                         steak burrito   \n",
      "4618      1833         1                         steak burrito   \n",
      "4619      1834         1                    chicken salad bowl   \n",
      "4620      1834         1                    chicken salad bowl   \n",
      "4621      1834         1                    chicken salad bowl   \n",
      "\n",
      "                                     choice_description  item_price  \\\n",
      "0                                                     0        2.39   \n",
      "1                                            clementine        3.39   \n",
      "2                                                 apple        3.39   \n",
      "3                                                     0        2.39   \n",
      "4     tomatillored chili salsa hot black beans rice ...       16.98   \n",
      "...                                                 ...         ...   \n",
      "4617  fresh tomato salsa rice black beans sour cream...       11.75   \n",
      "4618  fresh tomato salsa rice sour cream cheese lett...       11.75   \n",
      "4619  fresh tomato salsa fajita vegetables pinto bea...       11.25   \n",
      "4620       fresh tomato salsa fajita vegetables lettuce        8.75   \n",
      "4621  fresh tomato salsa fajita vegetables pinto bea...        8.75   \n",
      "\n",
      "                               consolidated_description  \n",
      "0     0, 0, 0, 0, 0, 0, 0, 0, 0, 0, 0, 0, 0, 0, 0, 0...  \n",
      "1     [Clementine], [Grapefruit], [Blackberry], [Bla...  \n",
      "2     [Apple], [Pomegranate Cherry], [Pineapple Oran...  \n",
      "3     0, 0, 0, 0, 0, 0, 0, 0, 0, 0, 0, 0, 0, 0, 0, 0...  \n",
      "4     [Tomatillo-Red Chili Salsa (Hot), [Black Beans...  \n",
      "...                                                 ...  \n",
      "4617  [Tomatillo Red Chili Salsa, [Fajita Vegetables...  \n",
      "4618  [Tomatillo Red Chili Salsa, [Fajita Vegetables...  \n",
      "4619  [Fresh Tomato Salsa, [Fajita Vegetables, Pinto...  \n",
      "4620  [Fresh Tomato Salsa, [Fajita Vegetables, Pinto...  \n",
      "4621  [Fresh Tomato Salsa, [Fajita Vegetables, Pinto...  \n",
      "\n",
      "[4563 rows x 6 columns]\n",
      "Sample of Order IDs: 4185    1671\n",
      "3876    1554\n",
      "1024     421\n",
      "1106     457\n",
      "1457     591\n",
      "525      219\n",
      "2890    1149\n",
      "4566    1816\n",
      "2561    1014\n",
      "4439    1769\n",
      "Name: order_id, dtype: int64\n"
     ]
    }
   ],
   "source": [
    "# Check for non-numeric characters in Order ID\n",
    "non_numeric_order_ids = df[~df['order_id'].astype(str).str.isdigit()]\n",
    "print(non_numeric_order_ids)\n",
    "\n",
    "# Check for inconsistent lengths in Order ID\n",
    "# Specify the expected length of Order ID\n",
    "expected_length = 10  # Replace 10 with the actual expected length\n",
    "\n",
    "# Check for inconsistent lengths in Order ID\n",
    "inconsistent_length_order_ids = df[df['order_id'].astype(str).str.len() != expected_length]\n",
    "\n",
    "print(inconsistent_length_order_ids)\n",
    "# Display a sample of Order IDs\n",
    "print(\"Sample of Order IDs:\", df['order_id'].sample(10))\n",
    "\n"
   ]
  },
  {
   "cell_type": "markdown",
   "metadata": {},
   "source": [
    "## 8. Item Name Standardization:\n",
    "Question: Standardize the Item Name column. Are there variations that can be unified for better analysis?\n"
   ]
  },
  {
   "cell_type": "markdown",
   "metadata": {},
   "source": [
    "Ans:"
   ]
  },
  {
   "cell_type": "code",
   "execution_count": 41,
   "metadata": {},
   "outputs": [
    {
     "name": "stdout",
     "output_type": "stream",
     "text": [
      "Unique Item Names:\n",
      "['chips and fresh tomato salsa' 'izze' 'nantucket nectar'\n",
      " 'chips and tomatillogreen chili salsa' 'chicken bowl' 'side of chips'\n",
      " 'steak burrito' 'steak soft tacos' 'chips and guacamole'\n",
      " 'chicken crispy tacos' 'chicken soft tacos' 'chicken burrito'\n",
      " 'canned soda' 'barbacoa burrito' 'carnitas burrito' 'carnitas bowl'\n",
      " 'bottled water' 'chips and tomatillo green chili salsa' 'barbacoa bowl'\n",
      " 'chips' 'chicken salad bowl' 'steak bowl' 'barbacoa soft tacos'\n",
      " 'veggie burrito' 'veggie bowl' 'steak crispy tacos'\n",
      " 'chips and tomatillo red chili salsa' 'barbacoa crispy tacos'\n",
      " 'veggie salad bowl' 'chips and roasted chilicorn salsa'\n",
      " 'chips and roasted chili corn salsa' 'carnitas soft tacos'\n",
      " 'chicken salad' 'canned soft drink' 'steak salad bowl'\n",
      " '6 pack soft drink' 'chips and tomatillored chili salsa' 'bowl' 'burrito'\n",
      " 'crispy tacos' 'carnitas crispy tacos' 'steak salad'\n",
      " 'chips and mild fresh tomato salsa' 'veggie soft tacos'\n",
      " 'carnitas salad bowl' 'barbacoa salad bowl' 'salad' 'veggie crispy tacos'\n",
      " 'veggie salad' 'carnitas salad']\n",
      "\n",
      "Unique Standardized Item Names:\n",
      "['chips and fresh tomato salsa' 'izze' 'nantucket nectar'\n",
      " 'chips and tomatillogreen chili salsa' 'chicken bowl' 'side of chips'\n",
      " 'steak burrito' 'steak soft tacos' 'chips and guacamole'\n",
      " 'chicken crispy tacos' 'chicken soft tacos' 'chicken burrito'\n",
      " 'canned soda' 'barbacoa burrito' 'carnitas burrito' 'carnitas bowl'\n",
      " 'bottled water' 'chips and tomatillo green chili salsa' 'barbacoa bowl'\n",
      " 'chips' 'chicken salad bowl' 'steak bowl' 'barbacoa soft tacos'\n",
      " 'veggie burrito' 'veggie bowl' 'steak crispy tacos'\n",
      " 'chips and tomatillo red chili salsa' 'barbacoa crispy tacos'\n",
      " 'veggie salad bowl' 'chips and roasted chilicorn salsa'\n",
      " 'chips and roasted chili corn salsa' 'carnitas soft tacos'\n",
      " 'chicken salad' 'canned soft drink' 'steak salad bowl'\n",
      " '6 pack soft drink' 'chips and tomatillored chili salsa' 'bowl' 'burrito'\n",
      " 'crispy tacos' 'carnitas crispy tacos' 'steak salad'\n",
      " 'chips and mild fresh tomato salsa' 'veggie soft tacos'\n",
      " 'carnitas salad bowl' 'barbacoa salad bowl' 'salad' 'veggie crispy tacos'\n",
      " 'veggie salad' 'carnitas salad']\n"
     ]
    }
   ],
   "source": [
    "\n",
    "# Display unique values in 'Item Name' to identify variations\n",
    "unique_item_names = df['item_name'].unique()\n",
    "print(\"Unique Item Names:\")\n",
    "print(unique_item_names)\n",
    "\n",
    "# Create a mapping dictionary to standardize item names\n",
    "# You can manually create a mapping or use string manipulation functions\n",
    "# to unify variations based on patterns\n",
    "name_mapping = {\n",
    "    'variation1': 'standard_name1',\n",
    "    'variation2': 'standard_name2',\n",
    "    # Add more variations and standard names as needed\n",
    "}\n",
    "\n",
    "# Apply the mapping to standardize 'Item Name' column\n",
    "df['standardized_item_name'] = df['item_name'].replace(name_mapping)\n",
    "\n",
    "# Display unique values in the standardized column\n",
    "unique_standardized_names = df['standardized_item_name'].unique()\n",
    "print(\"\\nUnique Standardized Item Names:\")\n",
    "print(unique_standardized_names)\n"
   ]
  },
  {
   "cell_type": "markdown",
   "metadata": {},
   "source": [
    "## 9. Quantity and Price Relationships:\n",
    "\n",
    "Question: Investigate the relationships between Quantity and Item Price. Are there cases where adjustments need to be made for accurate analysis?\n"
   ]
  },
  {
   "cell_type": "markdown",
   "metadata": {},
   "source": [
    "Ans: "
   ]
  },
  {
   "cell_type": "code",
   "execution_count": 43,
   "metadata": {},
   "outputs": [
    {
     "data": {
      "image/png": "[encoded data removed]",
      "text/plain": [
       "<Figure size 1000x600 with 1 Axes>"
      ]
     },
     "metadata": {},
     "output_type": "display_data"
    }
   ],
   "source": [
    "# Check for zero values in 'Quantity'\n",
    "zero_quantity = df[df['quantity'] == 0]\n",
    "\n",
    "# Check for zero values in 'Item Price'\n",
    "zero_price = df[df['item_price'] == 0]\n",
    "\n",
    "import matplotlib.pyplot as plt\n",
    "import seaborn as sns\n",
    "\n",
    "# Scatter plot of Quantity vs. Item Price\n",
    "plt.figure(figsize=(10, 6))\n",
    "sns.scatterplot(x='quantity', y='item_price', data=df)\n",
    "plt.title('Quantity vs. Item Price')\n",
    "plt.show()\n",
    "\n"
   ]
  },
  {
   "cell_type": "code",
   "execution_count": 47,
   "metadata": {},
   "outputs": [
    {
     "name": "stdout",
     "output_type": "stream",
     "text": [
      "Rows with inconsistent total price:\n",
      "Empty DataFrame\n",
      "Columns: [order_id, quantity, item_name, choice_description, item_price, consolidated_description, standardized_item_name, total_price, calculated_total_price]\n",
      "Index: []\n"
     ]
    }
   ],
   "source": [
    "# Calculate the total price for each row\n",
    "df['calculated_total_price'] = df['quantity'] * df['item_price']\n",
    "\n",
    "# Check for inconsistencies between the calculated total price and the sum of quantity and item_price\n",
    "inconsistent_total_price = df[df['calculated_total_price'] != (df['quantity'] * df['item_price'])]\n",
    "\n",
    "# Display rows with inconsistent total price\n",
    "print(\"Rows with inconsistent total price:\")\n",
    "print(inconsistent_total_price)\n",
    "\n"
   ]
  },
  {
   "cell_type": "code",
   "execution_count": 70,
   "metadata": {},
   "outputs": [
    {
     "name": "stdout",
     "output_type": "stream",
     "text": [
      "Rows with extreme z-scores (potential outliers):\n",
      "      order_id  quantity                             item_name  \\\n",
      "0            1         1          chips and fresh tomato salsa   \n",
      "1            1         1                                  izze   \n",
      "2            1         1                      nantucket nectar   \n",
      "3            1         1  chips and tomatillogreen chili salsa   \n",
      "4            2         2                          chicken bowl   \n",
      "...        ...       ...                                   ...   \n",
      "4617      1833         1                         steak burrito   \n",
      "4618      1833         1                         steak burrito   \n",
      "4619      1834         1                    chicken salad bowl   \n",
      "4620      1834         1                    chicken salad bowl   \n",
      "4621      1834         1                    chicken salad bowl   \n",
      "\n",
      "                                     choice_description  item_price  \\\n",
      "0                                                     0        2.39   \n",
      "1                                            clementine        3.39   \n",
      "2                                                 apple        3.39   \n",
      "3                                                     0        2.39   \n",
      "4     tomatillored chili salsa hot black beans rice ...       16.98   \n",
      "...                                                 ...         ...   \n",
      "4617  fresh tomato salsa rice black beans sour cream...       11.75   \n",
      "4618  fresh tomato salsa rice sour cream cheese lett...       11.75   \n",
      "4619  fresh tomato salsa fajita vegetables pinto bea...       11.25   \n",
      "4620       fresh tomato salsa fajita vegetables lettuce        8.75   \n",
      "4621  fresh tomato salsa fajita vegetables pinto bea...        8.75   \n",
      "\n",
      "                               consolidated_description  \\\n",
      "0     0, 0, 0, 0, 0, 0, 0, 0, 0, 0, 0, 0, 0, 0, 0, 0...   \n",
      "1     [Clementine], [Grapefruit], [Blackberry], [Bla...   \n",
      "2     [Apple], [Pomegranate Cherry], [Pineapple Oran...   \n",
      "3     0, 0, 0, 0, 0, 0, 0, 0, 0, 0, 0, 0, 0, 0, 0, 0...   \n",
      "4     [Tomatillo-Red Chili Salsa (Hot), [Black Beans...   \n",
      "...                                                 ...   \n",
      "4617  [Tomatillo Red Chili Salsa, [Fajita Vegetables...   \n",
      "4618  [Tomatillo Red Chili Salsa, [Fajita Vegetables...   \n",
      "4619  [Fresh Tomato Salsa, [Fajita Vegetables, Pinto...   \n",
      "4620  [Fresh Tomato Salsa, [Fajita Vegetables, Pinto...   \n",
      "4621  [Fresh Tomato Salsa, [Fajita Vegetables, Pinto...   \n",
      "\n",
      "                    standardized_item_name  total_price  \\\n",
      "0             chips and fresh tomato salsa         2.39   \n",
      "1                                     izze         3.39   \n",
      "2                         nantucket nectar         3.39   \n",
      "3     chips and tomatillogreen chili salsa         2.39   \n",
      "4                             chicken bowl        33.96   \n",
      "...                                    ...          ...   \n",
      "4617                         steak burrito        11.75   \n",
      "4618                         steak burrito        11.75   \n",
      "4619                    chicken salad bowl        11.25   \n",
      "4620                    chicken salad bowl         8.75   \n",
      "4621                    chicken salad bowl         8.75   \n",
      "\n",
      "      calculated_total_price  z_score_quantity  z_score_price  \n",
      "0                       2.39         -0.185861      -1.201804  \n",
      "1                       3.39         -0.185861      -0.966160  \n",
      "2                       3.39         -0.185861      -0.966160  \n",
      "3                       2.39         -0.185861      -1.201804  \n",
      "4                      33.96          2.237241       2.236242  \n",
      "...                      ...               ...            ...  \n",
      "4617                   11.75         -0.185861       1.003824  \n",
      "4618                   11.75         -0.185861       1.003824  \n",
      "4619                   11.25         -0.185861       0.886002  \n",
      "4620                    8.75         -0.185861       0.296892  \n",
      "4621                    8.75         -0.185861       0.296892  \n",
      "\n",
      "[4563 rows x 11 columns]\n"
     ]
    },
    {
     "data": {
      "text/html": [
       "<div>\n",
       "<style scoped>\n",
       "    .dataframe tbody tr th:only-of-type {\n",
       "        vertical-align: middle;\n",
       "    }\n",
       "\n",
       "    .dataframe tbody tr th {\n",
       "        vertical-align: top;\n",
       "    }\n",
       "\n",
       "    .dataframe thead th {\n",
       "        text-align: right;\n",
       "    }\n",
       "</style>\n",
       "<table border=\"1\" class=\"dataframe\">\n",
       "  <thead>\n",
       "    <tr style=\"text-align: right;\">\n",
       "      <th></th>\n",
       "      <th>order_id</th>\n",
       "      <th>quantity</th>\n",
       "      <th>item_name</th>\n",
       "      <th>choice_description</th>\n",
       "      <th>item_price</th>\n",
       "      <th>consolidated_description</th>\n",
       "      <th>standardized_item_name</th>\n",
       "      <th>total_price</th>\n",
       "      <th>calculated_total_price</th>\n",
       "    </tr>\n",
       "  </thead>\n",
       "  <tbody>\n",
       "    <tr>\n",
       "      <th>0</th>\n",
       "      <td>1</td>\n",
       "      <td>1</td>\n",
       "      <td>chips and fresh tomato salsa</td>\n",
       "      <td>0</td>\n",
       "      <td>2.39</td>\n",
       "      <td>0, 0, 0, 0, 0, 0, 0, 0, 0, 0, 0, 0, 0, 0, 0, 0...</td>\n",
       "      <td>chips and fresh tomato salsa</td>\n",
       "      <td>2.39</td>\n",
       "      <td>2.39</td>\n",
       "    </tr>\n",
       "    <tr>\n",
       "      <th>1</th>\n",
       "      <td>1</td>\n",
       "      <td>1</td>\n",
       "      <td>izze</td>\n",
       "      <td>clementine</td>\n",
       "      <td>3.39</td>\n",
       "      <td>[Clementine], [Grapefruit], [Blackberry], [Bla...</td>\n",
       "      <td>izze</td>\n",
       "      <td>3.39</td>\n",
       "      <td>3.39</td>\n",
       "    </tr>\n",
       "    <tr>\n",
       "      <th>2</th>\n",
       "      <td>1</td>\n",
       "      <td>1</td>\n",
       "      <td>nantucket nectar</td>\n",
       "      <td>apple</td>\n",
       "      <td>3.39</td>\n",
       "      <td>[Apple], [Pomegranate Cherry], [Pineapple Oran...</td>\n",
       "      <td>nantucket nectar</td>\n",
       "      <td>3.39</td>\n",
       "      <td>3.39</td>\n",
       "    </tr>\n",
       "    <tr>\n",
       "      <th>3</th>\n",
       "      <td>1</td>\n",
       "      <td>1</td>\n",
       "      <td>chips and tomatillogreen chili salsa</td>\n",
       "      <td>0</td>\n",
       "      <td>2.39</td>\n",
       "      <td>0, 0, 0, 0, 0, 0, 0, 0, 0, 0, 0, 0, 0, 0, 0, 0...</td>\n",
       "      <td>chips and tomatillogreen chili salsa</td>\n",
       "      <td>2.39</td>\n",
       "      <td>2.39</td>\n",
       "    </tr>\n",
       "    <tr>\n",
       "      <th>4</th>\n",
       "      <td>2</td>\n",
       "      <td>2</td>\n",
       "      <td>chicken bowl</td>\n",
       "      <td>tomatillored chili salsa hot black beans rice ...</td>\n",
       "      <td>16.98</td>\n",
       "      <td>[Tomatillo-Red Chili Salsa (Hot), [Black Beans...</td>\n",
       "      <td>chicken bowl</td>\n",
       "      <td>33.96</td>\n",
       "      <td>33.96</td>\n",
       "    </tr>\n",
       "    <tr>\n",
       "      <th>...</th>\n",
       "      <td>...</td>\n",
       "      <td>...</td>\n",
       "      <td>...</td>\n",
       "      <td>...</td>\n",
       "      <td>...</td>\n",
       "      <td>...</td>\n",
       "      <td>...</td>\n",
       "      <td>...</td>\n",
       "      <td>...</td>\n",
       "    </tr>\n",
       "    <tr>\n",
       "      <th>4617</th>\n",
       "      <td>1833</td>\n",
       "      <td>1</td>\n",
       "      <td>steak burrito</td>\n",
       "      <td>fresh tomato salsa rice black beans sour cream...</td>\n",
       "      <td>11.75</td>\n",
       "      <td>[Tomatillo Red Chili Salsa, [Fajita Vegetables...</td>\n",
       "      <td>steak burrito</td>\n",
       "      <td>11.75</td>\n",
       "      <td>11.75</td>\n",
       "    </tr>\n",
       "    <tr>\n",
       "      <th>4618</th>\n",
       "      <td>1833</td>\n",
       "      <td>1</td>\n",
       "      <td>steak burrito</td>\n",
       "      <td>fresh tomato salsa rice sour cream cheese lett...</td>\n",
       "      <td>11.75</td>\n",
       "      <td>[Tomatillo Red Chili Salsa, [Fajita Vegetables...</td>\n",
       "      <td>steak burrito</td>\n",
       "      <td>11.75</td>\n",
       "      <td>11.75</td>\n",
       "    </tr>\n",
       "    <tr>\n",
       "      <th>4619</th>\n",
       "      <td>1834</td>\n",
       "      <td>1</td>\n",
       "      <td>chicken salad bowl</td>\n",
       "      <td>fresh tomato salsa fajita vegetables pinto bea...</td>\n",
       "      <td>11.25</td>\n",
       "      <td>[Fresh Tomato Salsa, [Fajita Vegetables, Pinto...</td>\n",
       "      <td>chicken salad bowl</td>\n",
       "      <td>11.25</td>\n",
       "      <td>11.25</td>\n",
       "    </tr>\n",
       "    <tr>\n",
       "      <th>4620</th>\n",
       "      <td>1834</td>\n",
       "      <td>1</td>\n",
       "      <td>chicken salad bowl</td>\n",
       "      <td>fresh tomato salsa fajita vegetables lettuce</td>\n",
       "      <td>8.75</td>\n",
       "      <td>[Fresh Tomato Salsa, [Fajita Vegetables, Pinto...</td>\n",
       "      <td>chicken salad bowl</td>\n",
       "      <td>8.75</td>\n",
       "      <td>8.75</td>\n",
       "    </tr>\n",
       "    <tr>\n",
       "      <th>4621</th>\n",
       "      <td>1834</td>\n",
       "      <td>1</td>\n",
       "      <td>chicken salad bowl</td>\n",
       "      <td>fresh tomato salsa fajita vegetables pinto bea...</td>\n",
       "      <td>8.75</td>\n",
       "      <td>[Fresh Tomato Salsa, [Fajita Vegetables, Pinto...</td>\n",
       "      <td>chicken salad bowl</td>\n",
       "      <td>8.75</td>\n",
       "      <td>8.75</td>\n",
       "    </tr>\n",
       "  </tbody>\n",
       "</table>\n",
       "<p>4563 rows × 9 columns</p>\n",
       "</div>"
      ],
      "text/plain": [
       "      order_id  quantity                             item_name  \\\n",
       "0            1         1          chips and fresh tomato salsa   \n",
       "1            1         1                                  izze   \n",
       "2            1         1                      nantucket nectar   \n",
       "3            1         1  chips and tomatillogreen chili salsa   \n",
       "4            2         2                          chicken bowl   \n",
       "...        ...       ...                                   ...   \n",
       "4617      1833         1                         steak burrito   \n",
       "4618      1833         1                         steak burrito   \n",
       "4619      1834         1                    chicken salad bowl   \n",
       "4620      1834         1                    chicken salad bowl   \n",
       "4621      1834         1                    chicken salad bowl   \n",
       "\n",
       "                                     choice_description  item_price  \\\n",
       "0                                                     0        2.39   \n",
       "1                                            clementine        3.39   \n",
       "2                                                 apple        3.39   \n",
       "3                                                     0        2.39   \n",
       "4     tomatillored chili salsa hot black beans rice ...       16.98   \n",
       "...                                                 ...         ...   \n",
       "4617  fresh tomato salsa rice black beans sour cream...       11.75   \n",
       "4618  fresh tomato salsa rice sour cream cheese lett...       11.75   \n",
       "4619  fresh tomato salsa fajita vegetables pinto bea...       11.25   \n",
       "4620       fresh tomato salsa fajita vegetables lettuce        8.75   \n",
       "4621  fresh tomato salsa fajita vegetables pinto bea...        8.75   \n",
       "\n",
       "                               consolidated_description  \\\n",
       "0     0, 0, 0, 0, 0, 0, 0, 0, 0, 0, 0, 0, 0, 0, 0, 0...   \n",
       "1     [Clementine], [Grapefruit], [Blackberry], [Bla...   \n",
       "2     [Apple], [Pomegranate Cherry], [Pineapple Oran...   \n",
       "3     0, 0, 0, 0, 0, 0, 0, 0, 0, 0, 0, 0, 0, 0, 0, 0...   \n",
       "4     [Tomatillo-Red Chili Salsa (Hot), [Black Beans...   \n",
       "...                                                 ...   \n",
       "4617  [Tomatillo Red Chili Salsa, [Fajita Vegetables...   \n",
       "4618  [Tomatillo Red Chili Salsa, [Fajita Vegetables...   \n",
       "4619  [Fresh Tomato Salsa, [Fajita Vegetables, Pinto...   \n",
       "4620  [Fresh Tomato Salsa, [Fajita Vegetables, Pinto...   \n",
       "4621  [Fresh Tomato Salsa, [Fajita Vegetables, Pinto...   \n",
       "\n",
       "                    standardized_item_name  total_price  \\\n",
       "0             chips and fresh tomato salsa         2.39   \n",
       "1                                     izze         3.39   \n",
       "2                         nantucket nectar         3.39   \n",
       "3     chips and tomatillogreen chili salsa         2.39   \n",
       "4                             chicken bowl        33.96   \n",
       "...                                    ...          ...   \n",
       "4617                         steak burrito        11.75   \n",
       "4618                         steak burrito        11.75   \n",
       "4619                    chicken salad bowl        11.25   \n",
       "4620                    chicken salad bowl         8.75   \n",
       "4621                    chicken salad bowl         8.75   \n",
       "\n",
       "      calculated_total_price  \n",
       "0                       2.39  \n",
       "1                       3.39  \n",
       "2                       3.39  \n",
       "3                       2.39  \n",
       "4                      33.96  \n",
       "...                      ...  \n",
       "4617                   11.75  \n",
       "4618                   11.75  \n",
       "4619                   11.25  \n",
       "4620                    8.75  \n",
       "4621                    8.75  \n",
       "\n",
       "[4563 rows x 9 columns]"
      ]
     },
     "execution_count": 70,
     "metadata": {},
     "output_type": "execute_result"
    }
   ],
   "source": [
    "# Identify and handle outliers using, for example, Z-scores\n",
    "from scipy.stats import zscore\n",
    "\n",
    "# Calculate z-scores for 'quantity' and 'item_price'\n",
    "df['z_score_quantity'] = zscore(df['quantity'])\n",
    "df['z_score_price'] = zscore(df['item_price'])\n",
    "\n",
    "# Filter rows with extreme z-scores (e.g., z > 3 or z < -3)\n",
    "outliers = df[(abs(df['z_score_quantity']) > 14) | (abs(df['z_score_price']) > 0)]\n",
    "\n",
    "# Display rows with extreme z-scores\n",
    "print(\"Rows with extreme z-scores (potential outliers):\")\n",
    "print(outliers)\n",
    "\n",
    "# Drop the added z-score columns if not needed for further analysis\n",
    "df = df.drop(columns=['z_score_quantity', 'z_score_price'])\n",
    "df\n"
   ]
  },
  {
   "cell_type": "code",
   "execution_count": 72,
   "metadata": {},
   "outputs": [
    {
     "data": {
      "image/png": "[encoded data removed]",
      "text/plain": [
       "<Figure size 1000x600 with 1 Axes>"
      ]
     },
     "metadata": {},
     "output_type": "display_data"
    }
   ],
   "source": [
    "import matplotlib.pyplot as plt\n",
    "import seaborn as sns\n",
    "from scipy.stats import zscore\n",
    "\n",
    "# Calculate z-scores for 'quantity'\n",
    "df['z_score_quantity'] = zscore(df['quantity'])\n",
    "\n",
    "# Filter rows where 'quantity' is less than or equal to 14\n",
    "filtered_df = df[df['quantity'] <= 14]\n",
    "\n",
    "# Scatter plot of 'quantity' vs. 'item_price' for the filtered DataFrame\n",
    "plt.figure(figsize=(10, 6))\n",
    "sns.scatterplot(x='quantity', y='item_price', data=filtered_df)\n",
    "plt.title('Quantity vs. Item Price (Filtered for quantity <= 14)')\n",
    "plt.show()\n",
    "\n",
    "# Drop the added z-score columns if not needed for further analysis\n",
    "df = df.drop(columns=['z_score_quantity'])\n",
    "\n"
   ]
  },
  {
   "cell_type": "markdown",
   "metadata": {},
   "source": [
    "## 10. Data Integrity Check:\n",
    "\n",
    "Question: Perform a data integrity check by ensuring that quantities and prices align with the corresponding items and descriptions.\n"
   ]
  },
  {
   "cell_type": "markdown",
   "metadata": {},
   "source": [
    "Ans:\n"
   ]
  },
  {
   "cell_type": "code",
   "execution_count": 80,
   "metadata": {},
   "outputs": [
    {
     "name": "stdout",
     "output_type": "stream",
     "text": [
      "Rows with inconsistent data:\n",
      "Empty DataFrame\n",
      "Columns: [order_id, quantity, item_name, choice_description, item_price, consolidated_description, standardized_item_name, total_price, calculated_total_price]\n",
      "Index: []\n"
     ]
    }
   ],
   "source": [
    "\n",
    "# Check for inconsistencies between quantities, prices, and items\n",
    "inconsistent_data = df[df['quantity'] * df['item_price'] != df['total_price']]\n",
    "\n",
    "# Display rows with inconsistent data\n",
    "print(\"Rows with inconsistent data:\")\n",
    "print(inconsistent_data)\n"
   ]
  },
  {
   "cell_type": "markdown",
   "metadata": {},
   "source": [
    "## 11. Converting to CSV:\n",
    "\n",
    "Optional Question: If needed, convert the cleaned dataset to a CSV file using the to_csv function with sep=','.\n"
   ]
  },
  {
   "cell_type": "markdown",
   "metadata": {},
   "source": [
    "## 12. Handling Categorical Data:\n",
    "\n",
    "Question: For categorical columns (e.g., Item Name), consider encoding or transforming them into a format suitable for analysis.\n"
   ]
  },
  {
   "cell_type": "markdown",
   "metadata": {},
   "source": [
    "Ans:"
   ]
  },
  {
   "cell_type": "code",
   "execution_count": 81,
   "metadata": {},
   "outputs": [],
   "source": [
    "from sklearn.preprocessing import LabelEncoder\n",
    "\n",
    "# Create a label encoder\n",
    "label_encoder = LabelEncoder()\n",
    "\n",
    "# Apply label encoding to the 'item_name' column\n",
    "df['item_name_encoded'] = label_encoder.fit_transform(df['item_name'])\n"
   ]
  },
  {
   "cell_type": "code",
   "execution_count": null,
   "metadata": {},
   "outputs": [],
   "source": []
  },
  {
   "cell_type": "code",
   "execution_count": 83,
   "metadata": {},
   "outputs": [
    {
     "name": "stdout",
     "output_type": "stream",
     "text": [
      "Unique Quantity Units: [ 1  2  3  4  5 15  7  8 10]\n",
      "Unique Price Units: [ 2.39  3.39 16.98 10.98  1.69 11.75  9.25  4.45  8.75 11.25  8.49  2.18\n",
      "  8.99  1.09  2.95  2.15  3.99 22.5  11.48 17.98 17.5   4.3   5.9   1.25\n",
      " 23.78  6.49 11.08  1.5  22.16 32.94 22.2  10.58  2.5  23.5   7.4  18.5\n",
      "  3.    6.78 11.89  9.39  4.    3.75  8.69  2.29  8.9   3.27  3.89  8.19\n",
      " 35.   27.75 11.8   6.   26.25 21.96  4.36  7.5   4.78 13.35  6.45  5.07\n",
      " 22.96  7.17  7.98  4.5  26.07 12.98 35.25 44.25 10.5  33.75 16.38 13.52\n",
      "  5.   15.    8.5  17.8   1.99 11.49]\n"
     ]
    }
   ],
   "source": [
    "# Display unique units in 'Quantity' and 'Item Price' columns\n",
    "unique_quantity_units = df['quantity'].unique()\n",
    "unique_price_units = df['item_price'].unique()\n",
    "\n",
    "print(\"Unique Quantity Units:\", unique_quantity_units)\n",
    "print(\"Unique Price Units:\", unique_price_units)\n"
   ]
  },
  {
   "cell_type": "code",
   "execution_count": null,
   "metadata": {},
   "outputs": [],
   "source": []
  }
 ],
 "metadata": {
  "kernelspec": {
   "display_name": "Python 3",
   "language": "python",
   "name": "python3"
  },
  "language_info": {
   "codemirror_mode": {
    "name": "ipython",
    "version": 3
   },
   "file_extension": ".py",
   "mimetype": "text/x-python",
   "name": "python",
   "nbconvert_exporter": "python",
   "pygments_lexer": "ipython3",
   "version": "3.11.4"
  }
 },
 "nbformat": 4,
 "nbformat_minor": 2
}
